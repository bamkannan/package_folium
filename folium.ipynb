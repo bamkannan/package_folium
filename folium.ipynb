{
 "cells": [
  {
   "cell_type": "markdown",
   "metadata": {},
   "source": [
    "---\n",
    "layout: post\n",
    "title: Folium\n",
    "subtitle: Exercícios e Referências\n",
    "tags: [python, pycharm, jupyter, package, folium]\n",
    "image: /img/posts/folium_icon.png\n",
    "bigimg: /img/posts/folium_big.png\n",
    "gh-repo: michelmetran/package_folium\n",
    "gh-badge: [follow, star, watch, fork]\n",
    "comments: true\n",
    "\n",
    "---"
   ]
  },
  {
   "cell_type": "markdown",
   "metadata": {},
   "source": [
    "O <a title=\"Link do Folium\" href=\"https://python-visualization.github.io/folium/index.html\" target=\"_blank\">***Folium***</a> é um pacote que possibilita a criação de mapas *online*, facilitando a visualização dos dados manipulados no *Python* em um mapa que usa a biblioteca JavaScript <a title=\"Link do Leaflet\" href=\"https://leafletjs.com/\" target=\"_blank\">***Leaflet***</a>.\n",
    "\n",
    "A biblioteca possui vários conjuntos de blocos internos do OpenStreetMap, Mapbox e Stamen, além de suportar conjuntos de blocos customizados com as chaves da API Mapbox ou Cloudmade. ***Folium*** suporta sobreposições de imagem, vídeo, GeoJSON e TopoJSON.\n",
    "<br>\n",
    "\n",
    "{: .box-warning}\n",
    "**Aviso:** Esse *post* tem a finalidade de mostrar os comandos básicos e me deixar com uma \"cola\" rápida para meu uso cotidiano. Todas os códigos são exemplificativos e podem/devem ser alterados, indicando o nome dos arquivos e diretórios corretamente.\n",
    "\n",
    "{: .box-note}\n",
    "**Nota:** É possível acessar esse *post* em formato <a title=\"Link do Folium\" href=\"https://github.com/michelmetran/package_folium/raw/master/docs/folium.pdf\" target=\"_blank\">***pdf***</a>, diretamente por meio do <a title=\"Link do Repositório\" href=\"https://github.com/michelmetran/package_folium\" target=\"_blank\">**repositório do GitHub**</a> ou ainda, de maneira interativa, usando o [![Binder](https://mybinder.org/badge_logo.svg)](https://mybinder.org/v2/gh/michelmetran/package_folium/master)."
   ]
  },
  {
   "cell_type": "markdown",
   "metadata": {},
   "source": [
    "# Importando Bibliotecas\n",
    "\n",
    "As bibliotecas básicas, ou *packages*, necessárias para criação do mapa são:\n",
    "- O ***Pandas***, que tem a missão de trabalhar com dados, criar *subsets*, selecionar e filtros dados e;\n",
    "- O ***Folium***, que é a biblioteca que cria, na prática, o mapa!"
   ]
  },
  {
   "cell_type": "code",
   "execution_count": null,
   "metadata": {},
   "outputs": [],
   "source": [
    "import os\n",
    "import json\n",
    "import folium\n",
    "import pandas as pd\n",
    "import geopandas as gpd"
   ]
  },
  {
   "cell_type": "markdown",
   "metadata": {},
   "source": [
    "# Criando um mapa\n",
    "\n",
    "Basta um par de coordenadas -- que pode ser obtida facilmente no _link_ de qualquer endereço usando <a title=\"Link do Google Maps\" href=\"https://www.google.com.br/maps\" target=\"_blank\">**_Google Maps_**</a> -- e um nível de zoom que o mapa já está criado."
   ]
  },
  {
   "cell_type": "code",
   "execution_count": null,
   "metadata": {},
   "outputs": [],
   "source": [
    "folium.Map(\n",
    "    location=[-23.9619271, -46.3427499],    # Define coordenadas iniciais\n",
    "    #min_zoom=6,                            # Define qual o menor zoom\n",
    "    #max_zoom=14,                           # Define qual o maior zoom\n",
    "    #no_wrap=True,\n",
    "    max_bounds=True,\n",
    "    zoom_start=12,                          # Define o zoom do início\n",
    "    control_scale=True,                     # Define se terá barra de escala\n",
    "    #width=width,\n",
    "    #height=height,\n",
    ")"
   ]
  },
  {
   "cell_type": "markdown",
   "metadata": {},
   "source": [
    "Utilizando um conjunto de dados apresentado em <a title=\"Link de Jessica Temporal\" href=\"https://jtemporal.com/folium\" target=\"_blank\">**Jessica Temporal**</a>, contendo coordenadas geográficas de empresas, podemos extrair uma empresa específica e plotar no mapa, ou ainda trabalhar de outras maneiras com esses dados."
   ]
  },
  {
   "cell_type": "code",
   "execution_count": null,
   "metadata": {},
   "outputs": [],
   "source": [
    "# Lendo e filtrando dados\n",
    "df = pd.read_csv('data/empresas.xz')\n",
    "df = df[df['state'] == 'SP']\n",
    "df = df[df['city'] == 'SANTOS']\n",
    "\n",
    "df.dtypes\n",
    "#df.head(10)"
   ]
  },
  {
   "cell_type": "markdown",
   "metadata": {},
   "source": [
    "## Inserindo algumas coordenadas"
   ]
  },
  {
   "cell_type": "code",
   "execution_count": null,
   "metadata": {},
   "outputs": [],
   "source": [
    "# Cria o mapa\n",
    "m = folium.Map(\n",
    "    location=[0,0],\n",
    "    zoom_start=15,\n",
    "    min_zoom = 10,\n",
    "    max_zoom = 15,\n",
    "    max_bounds = True\n",
    "    #min_lat = min_lat,\n",
    "    #max_lat = max_lat,\n",
    "    #min_lon = min_long,\n",
    "    #max_lon = max_long\n",
    ")\n",
    "\n",
    "# Extrai informações de duas empresas\n",
    "df1 = df.iloc[0]\n",
    "df2 = df.iloc[1]\n",
    "\n",
    "# Adiciona no mapa tais empresas\n",
    "folium.Marker(\n",
    "    location=[df1['latitude'], df1['longitude']],\n",
    ").add_to(m)\n",
    "\n",
    "folium.Marker(\n",
    "    location=[df2['latitude'], df2['longitude']],\n",
    ").add_to(m)\n",
    "\n",
    "# Limite o zoom às feiçoes inseridas\n",
    "m.fit_bounds(m.get_bounds())\n",
    "m.get_bounds()[0]\n",
    "#min_lat, min_long = m.get_bounds()[1]\n",
    "#max_lat, max_long = m.get_bounds()[0]\n",
    "\n",
    "# Apresenta o mapa\n",
    "m"
   ]
  },
  {
   "cell_type": "markdown",
   "metadata": {},
   "source": [
    "## Inserindo multiplas coordenadas"
   ]
  },
  {
   "cell_type": "code",
   "execution_count": null,
   "metadata": {},
   "outputs": [],
   "source": [
    "# Cria o mapa\n",
    "m = folium.Map(\n",
    "    location=[-23.9619271,-46.3427499],\n",
    "    zoom_start=12\n",
    ")\n",
    "\n",
    "# Adiciona todas as empresas selecionadas\n",
    "for index, row in df.iterrows():\n",
    "    folium.Marker(\n",
    "        location=[row['latitude'], row['longitude']],\n",
    "        tooltip=row['neighborhood'],\n",
    "    ).add_to(m)\n",
    "\n",
    "# Apresenta o mapa\n",
    "m"
   ]
  },
  {
   "cell_type": "markdown",
   "metadata": {},
   "source": [
    "<br>\n",
    "\n",
    "# Inserindo feições\n",
    "\n",
    "As feições que são possiveis de apresentar são àquelas típicas do geoprocessamento:\n",
    "- Pontos;\n",
    "- Linhas;\n",
    "- Polígonos\n",
    "\n",
    "Abaixo são apresentados alguns tipos de marcadores.\n",
    "\n",
    "PS: Um site relevante para obter as cores em formato hexadecimal (bastante utilizado na definição dos *styles* do **folium** é usando o site [ColorBook.io](https://www.colorbook.io))."
   ]
  },
  {
   "cell_type": "markdown",
   "metadata": {},
   "source": [
    "## Pontos Simples"
   ]
  },
  {
   "cell_type": "code",
   "execution_count": null,
   "metadata": {},
   "outputs": [],
   "source": [
    "# Cria o mapa\n",
    "m = folium.Map(\n",
    "    location=[-23.9619271,-46.3427499],\n",
    "    zoom_start=12\n",
    ")\n",
    "\n",
    "# Cria cores para as tags\n",
    "colors = {\n",
    "    'PONTA DA PRAIA': 'pink',\n",
    "    'CENTRO': 'blue',\n",
    "    'GONZAGA': 'green',\n",
    "    'JOSÉ MENINO': 'red',\n",
    "    'EMBARE': 'beige',\n",
    "    'MACUCO': 'blue',\n",
    "    'VILA MATHIAS': 'lightblue',\n",
    "    'POMPEIA': 'red',\n",
    "    'APARECIDA': 'purple'\n",
    "}\n",
    "\n",
    "# Adiciona as diferentes empresas com cores por bairros\n",
    "for index, row in df.iterrows():\n",
    "    if row['neighborhood'] in colors.keys():\n",
    "        folium.Marker(\n",
    "            location=[row['latitude'], row['longitude']],\n",
    "            popup=row['name'],\n",
    "            tooltip=row['neighborhood'],\n",
    "            icon=folium.Icon(color=colors[row['neighborhood']], icon='leaf')\n",
    "        ).add_to(m)\n",
    "\n",
    "# Apresenta o mapa\n",
    "m"
   ]
  },
  {
   "cell_type": "markdown",
   "metadata": {},
   "source": [
    "## Ponto com Buffer"
   ]
  },
  {
   "cell_type": "code",
   "execution_count": null,
   "metadata": {},
   "outputs": [],
   "source": [
    "# Cria o mapa\n",
    "m = folium.Map(\n",
    "    location=[-23.9619271,-46.3427499],\n",
    "    zoom_start=12\n",
    ")\n",
    "\n",
    "# Adiciona as diferentes empresas com cores por bairros\n",
    "for index, row in df.iterrows():\n",
    "    if row['neighborhood'] in colors.keys():\n",
    "        folium.CircleMarker(\n",
    "        location=[row['latitude'], row['longitude']],        \n",
    "        radius=10,\n",
    "        popup='<strong>'+row['neighborhood']+'</strong>',\n",
    "        tooltip='Dica',\n",
    "        fill=True,\n",
    "        #fill_color='#428bca'\n",
    "        fill_color=colors[row['neighborhood']]\n",
    "    ).add_to(m)\n",
    "\n",
    "# Apresenta o mapa\n",
    "m"
   ]
  },
  {
   "cell_type": "markdown",
   "metadata": {},
   "source": [
    "## Custom Icon\n",
    "\n",
    "https://www.w3schools.com/icons/default.asp\n",
    "\n",
    "https://fontawesome.com/v4.7.0/icons/ (não funciona o 5.0)\n",
    "https://stackoverflow.com/questions/58607693/how-to-use-folium-icon-with-fontawesome"
   ]
  },
  {
   "cell_type": "code",
   "execution_count": null,
   "metadata": {},
   "outputs": [],
   "source": [
    "pointIcon_url = 'http://maps.google.com/mapfiles/kml/shapes/shaded_dot.png'\n",
    "icon = folium.features.CustomIcon(pointIcon_url, icon_size=(15, 15))\n",
    "icon"
   ]
  },
  {
   "cell_type": "markdown",
   "metadata": {},
   "source": [
    "## Vegas\n",
    "O _folium_ tem o vegas https://vega.github.io/vega/ como _default_."
   ]
  },
  {
   "cell_type": "code",
   "execution_count": null,
   "metadata": {},
   "outputs": [],
   "source": [
    "# Cria o mapa\n",
    "m = folium.Map(\n",
    "    location=[-23.9619271,-46.3427499],\n",
    "    zoom_start=12\n",
    ")\n",
    "\n",
    "# Importa bibliotecas e lê o json\n",
    "vis = os.path.join('data', 'vis.json')\n",
    "\n",
    "# Adiciona as diferentes empresas com gráficos no popup\n",
    "for index, row in df.iterrows():\n",
    "    if row['neighborhood'] in colors.keys():\n",
    "        folium.Marker(\n",
    "            location=[row['latitude'], row['longitude']],            \n",
    "            popup=folium.Popup(max_width=450).add_child(folium.Vega(json.load(open(vis)), width=450, height=250))\n",
    ").add_to(m)\n",
    "        \n",
    "# Display Map\n",
    "m"
   ]
  },
  {
   "cell_type": "markdown",
   "metadata": {},
   "source": [
    "## Geojson\n",
    "\n",
    "É possível também inserir desenhos em formato **_GeoJson_**, o que abre grandes possibilidades.\n",
    "Para rabiscos aleatórios, anotações etc, é possivel criar o arquivo usando http://geojson.io."
   ]
  },
  {
   "cell_type": "code",
   "execution_count": null,
   "metadata": {},
   "outputs": [],
   "source": [
    "# Cria o mapa\n",
    "m = folium.Map(\n",
    "    location=[-23.9619271,-46.3427499],\n",
    "    zoom_start=12,\n",
    ")\n",
    "\n",
    "# Importa bibliotecas e lê o json\n",
    "shp = os.path.join('data', 'trajetos.json')\n",
    "\n",
    "# Adiciona as diferentes empresas com gráficos no popup\n",
    "a = folium.GeoJson(shp, name='Trajetos')\n",
    "folium.GeoJson(shp, name='Trajetos').add_to(m)\n",
    "\n",
    "# Apresenta o mapa\n",
    "m"
   ]
  },
  {
   "cell_type": "markdown",
   "metadata": {},
   "source": [
    "## Geojson in URL"
   ]
  },
  {
   "cell_type": "code",
   "execution_count": null,
   "metadata": {},
   "outputs": [],
   "source": [
    "# Map Object\n",
    "m = folium.Map(location=(0,0),\n",
    "               zoom_start=2)\n",
    "\n",
    "# Data: Link to geojson\n",
    "json_url = 'https://raw.githubusercontent.com/datasets/geo-boundaries-world-110m/master/countries.geojson'\n",
    "\n",
    "# Adiciona GeoJson\n",
    "a = folium.GeoJson(shp, name='Trajetos').add_to(m)\n",
    "\n",
    "# Folium Object\n",
    "folium.Choropleth(\n",
    "    geo_data=json_url,\n",
    "    fill_color='YlGn',\n",
    "    fill_opacity=0.7,\n",
    "    line_opacity=0.2,\n",
    "    legend_name='Limites').add_to(m)\n",
    "\n",
    "# Ordena Layers\n",
    "m.keep_in_front(a)\n",
    "\n",
    "# Display Map\n",
    "m"
   ]
  },
  {
   "cell_type": "markdown",
   "metadata": {},
   "source": [
    "## GeoDataFrame"
   ]
  },
  {
   "cell_type": "code",
   "execution_count": null,
   "metadata": {},
   "outputs": [],
   "source": [
    "# Cria geopandas Object\n",
    "gdf = gpd.read_file(os.path.join('data', 'Piracicaba.shp'))\n",
    "\n",
    "# Transform Coordenate and Format\n",
    "gjson = gdf.to_crs(epsg='4326').to_json()\n",
    "\n",
    "# Cria mapa\n",
    "m = folium.Map([-15.783333, -47.866667],\n",
    "               min_zoom=9,\n",
    "               tiles='cartodbpositron')\n",
    "\n",
    "shp = folium.features.GeoJson(gjson)\n",
    "m.add_child(shp)\n",
    "m.fit_bounds(m.get_bounds())\n",
    "\n",
    "# Plota Mapa\n",
    "m"
   ]
  },
  {
   "cell_type": "markdown",
   "metadata": {},
   "source": [
    "## WMS"
   ]
  },
  {
   "cell_type": "code",
   "execution_count": null,
   "metadata": {},
   "outputs": [],
   "source": [
    "m = folium.Map(location=[28, -81], zoom_start=6)\n",
    "\n",
    "folium.raster_layers.WmsTileLayer(\n",
    "    url='http://mesonet.agron.iastate.edu/cgi-bin/wms/nexrad/n0r.cgi',\n",
    "    name='test',\n",
    "    fmt='image/png',\n",
    "    layers='nexrad-n0r-900913',\n",
    "    attr=u'Weather data © 2012 IEM Nexrad',\n",
    "    transparent=True,\n",
    "    overlay=True,\n",
    "    control=True,\n",
    ").add_to(m)\n",
    "\n",
    "m"
   ]
  },
  {
   "cell_type": "code",
   "execution_count": null,
   "metadata": {},
   "outputs": [],
   "source": [
    "m = folium.Map(location=[-22, -55], zoom_start=6)\n",
    "\n",
    "folium.raster_layers.WmsTileLayer(\n",
    "    url='http://datageo.ambiente.sp.gov.br/geoserver/ows?SERVICE=WMS&',\n",
    "    name='test',\n",
    "    fmt='image/png',\n",
    "    layers='vwm_car_propriedades_publico_ugrhi_5_pol',\n",
    "    attr=u'Weather data © 2012 IEM Nexrad',\n",
    "    transparent=True,\n",
    "    overlay=True,\n",
    "    control=True,\n",
    ").add_to(m)\n",
    "\n",
    "#m\n",
    "\n",
    "from folium.plugins import MousePosition\n",
    "#m = folium.Map()\n",
    "MousePosition().add_to(m)\n",
    "m"
   ]
  },
  {
   "cell_type": "markdown",
   "metadata": {},
   "source": [
    "## _Join_ e Categorias"
   ]
  },
  {
   "cell_type": "code",
   "execution_count": null,
   "metadata": {},
   "outputs": [],
   "source": [
    "# Data\n",
    "states = os.path.join('data', 'us-states.json')\n",
    "unemployement_data = os.path.join('data', 'us_unemployment.csv')\n",
    "df = pd.read_csv(unemployement_data)\n",
    "\n",
    "# \n",
    "print(df.head())\n",
    "\n",
    "# Map Object\n",
    "m = folium.Map(location=[48, -102],\n",
    "               zoom_start=3)\n",
    "\n",
    "# Folium Object\n",
    "folium.Choropleth(\n",
    "    geo_data=states,\n",
    "    name='States',\n",
    "    data=df,\n",
    "    columns=['State', 'Unemployment'],\n",
    "    key_on='feature.id',                    # Campo, no geojson, que tem o identificador\n",
    "    fill_color='YlGn',\n",
    "    fill_opacity=0.7,\n",
    "    line_opacity=0.2,\n",
    "    legend_name='Unemployment Rate %'\n",
    ").add_to(m)\n",
    "\n",
    "# Add Features\n",
    "folium.LayerControl().add_to(m)\n",
    "\n",
    "# Display Map\n",
    "m"
   ]
  },
  {
   "cell_type": "code",
   "execution_count": null,
   "metadata": {},
   "outputs": [],
   "source": [
    "#json.load(open(states))"
   ]
  },
  {
   "cell_type": "markdown",
   "metadata": {},
   "source": [
    "# Basemap"
   ]
  },
  {
   "cell_type": "markdown",
   "metadata": {},
   "source": [
    "## Por nome\n",
    "O mapa pode ter diferentes *basemaps*, que são, na essência, o mapa de fundo renderizado em *titles*. O *folium* utiliza, por *default*, o basemap do *OpenStreetMap*, contudo existe a possibilidade de adicionar outros serviços, conforme se vê abaixo.\n",
    "\n",
    "- https://github.com/nextgis/quickmapservices_contrib/tree/master/data_sources\n",
    "- https://xyz.michelstuyts.be/\n",
    "- https://www.trailnotes.org/FetchMap/TileServeSource.html"
   ]
  },
  {
   "cell_type": "code",
   "execution_count": null,
   "metadata": {},
   "outputs": [],
   "source": [
    "folium.Map(location=[-23.9619271,-46.3427499],\n",
    "           #tiles='Mapbox Bright',\n",
    "           #tiles='Mapbox Control Room',\n",
    "           #tiles='Stamen Toner',\n",
    "           #tiles='Stamen Terrain',\n",
    "           #tiles='OpenStreetMap',\n",
    "           zoom_start=12\n",
    "          )"
   ]
  },
  {
   "cell_type": "markdown",
   "metadata": {},
   "source": [
    "Um outro jeito de inserir _basemaps_ é utilizado o <a title=\"Link do MapBox\" href=\"https://www.mapbox.com\" target=\"_blank\">MapBox</a>, onde é possível customizar um _basemap_ personalizado, bem como utilizar outros _basemaps_ pré-existentes, incluindo imagens de satélite de alta resolução, etc.\n",
    "\n",
    "Para melhor utilização, com a possiblidade de disponibilizar códigos, é necessário estudar a melhor maneira de ocultar a _API key_. Um início:\n",
    "- http://www.blacktechdiva.com/hide-api-keys/\n",
    "- https://www.quora.com/How-do-you-hide-your-API-customer-key-token-when-youre-pushing-code-to-Github"
   ]
  },
  {
   "cell_type": "code",
   "execution_count": null,
   "metadata": {},
   "outputs": [],
   "source": [
    "#folium.Map(location=[-23.9619271,-46.3427499],\n",
    "#           tiles='Mapbox',\n",
    "#           API_key='your.API.key',\n",
    "#           zoom_start=12\n",
    "#          )"
   ]
  },
  {
   "cell_type": "markdown",
   "metadata": {},
   "source": [
    "## Por endereço do title (x, y, z)"
   ]
  },
  {
   "cell_type": "markdown",
   "metadata": {},
   "source": [
    "Por fim, é possivel ainda inserir _basemaps_ personalizados, disponibilizados em algum servidor."
   ]
  },
  {
   "cell_type": "code",
   "execution_count": null,
   "metadata": {},
   "outputs": [],
   "source": [
    "folium.Map(location=[-23.9619271,-46.3427499],\n",
    "           zoom_start=3,\n",
    "           #tiles='http://{s}.tile.osm.org/{z}/{x}/{y}.png',\n",
    "           tiles='http://prettymaps.stamen.com/201008/tiles/isola/{z}/000/{x}/000/{y}.png',\n",
    "           attr=' '\n",
    "          )"
   ]
  },
  {
   "cell_type": "code",
   "execution_count": null,
   "metadata": {},
   "outputs": [],
   "source": [
    "folium.raster_layers.TileLayer(\n",
    "    tiles='http://{s}.google.com/vt/lyrs=m&x={x}&y={y}&z={z}',\n",
    "    attr='google',\n",
    "    name='google street view',\n",
    "    max_zoom=20,\n",
    "    subdomains=['mt0', 'mt1', 'mt2', 'mt3'],\n",
    "    overlay=False,\n",
    "    control=True,\n",
    ").add_to(m)\n",
    "\n",
    "m"
   ]
  },
  {
   "cell_type": "code",
   "execution_count": null,
   "metadata": {},
   "outputs": [],
   "source": [
    "def create_tiles_folium(tile_service=2, location=[-23.9619271, -46.3427499], zoom_start=10):\n",
    "    \"\"\"\n",
    "    Function to create map using tiles... a list of them\n",
    "    - https://xyz.michelstuyts.be/\n",
    "    :param tile_service:\n",
    "    :param location:\n",
    "    :param zoom_start:\n",
    "    :return:\n",
    "    \"\"\"\n",
    "    # Import Packages\n",
    "    import pandas as pd\n",
    "    import folium\n",
    "\n",
    "    # Read table with all tiles servers\n",
    "    #tiles_services = pd.read_csv('data/tiles.csv', index_col=0)\n",
    "    df = pd.read_csv('https://raw.githubusercontent.com/michelmetran/package_folium/master/data/tiles.csv', index_col=0)\n",
    "    #print(df)\n",
    "    #Mais serviços! https://leaflet-extras.github.io/leaflet-providers/preview/\n",
    "\n",
    "    # Create reference to attribution\n",
    "    ref = ('<a href=\"' +\n",
    "           df.loc[tile_service, 'attribution'] +\n",
    "           '\" target=\"blank\">' +\n",
    "           df.loc[tile_service, 'name'] +\n",
    "           '</a>')\n",
    "\n",
    "    m = folium.Map(location=location,\n",
    "                   zoom_start=zoom_start,\n",
    "                   tiles=[],\n",
    "                  )\n",
    "    \n",
    "    folium.TileLayer(tiles=df.loc[tile_service, 'link'],\n",
    "                     attr=ref,\n",
    "                     name=df.loc[tile_service, 'name'],\n",
    "                    ).add_to(m)\n",
    "    \n",
    "    folium.LayerControl().add_to(m)\n",
    "    \n",
    "    return m"
   ]
  },
  {
   "cell_type": "code",
   "execution_count": null,
   "metadata": {},
   "outputs": [],
   "source": [
    "create_tiles_folium(4)"
   ]
  },
  {
   "cell_type": "markdown",
   "metadata": {},
   "source": [
    "## Multiplos\n",
    "\n",
    "Ainda, é possível criar um objeto que não tenha nenhum mapa por padrão. Daí, em seguinda, se inserem diversos mapas."
   ]
  },
  {
   "cell_type": "code",
   "execution_count": null,
   "metadata": {},
   "outputs": [],
   "source": [
    "m = folium.Map(location=[-23.9619271,-46.3427499],\n",
    "               zoom_start=12,\n",
    "               tiles=None,)\n",
    "\n",
    "folium.TileLayer('openstreetmap').add_to(m)\n",
    "folium.TileLayer('stamentoner').add_to(m)\n",
    "folium.TileLayer('stamenTerrain').add_to(m)\n",
    "folium.TileLayer('stamenwatercolor', name='Qualquer coisa').add_to(m)\n",
    "folium.TileLayer('cartodbpositron').add_to(m)\n",
    "folium.TileLayer('cartodbdark_matter').add_to(m)\n",
    "folium.LayerControl().add_to(m)\n",
    "\n",
    "m"
   ]
  },
  {
   "cell_type": "code",
   "execution_count": null,
   "metadata": {},
   "outputs": [],
   "source": [
    "def create_map_multitiles(location=[-23.9619271, -46.3427499], zoom_start=10):\n",
    "    \"\"\"\n",
    "    :param tile_service:\n",
    "    :param location:\n",
    "    :param zoom_start:\n",
    "    :return:\n",
    "    \"\"\"\n",
    "    # Import Packages\n",
    "    import pandas as pd\n",
    "    import folium\n",
    "\n",
    "    # Create Maps\n",
    "    m = folium.Map(location=location,\n",
    "                   zoom_start=zoom_start,\n",
    "                   tiles=None,\n",
    "                   )\n",
    "\n",
    "    # Read table with all tiles servers\n",
    "    #df = pd.read_csv('data/tiles.csv', index_col=0)\n",
    "    df = pd.read_csv('https://raw.githubusercontent.com/michelmetran/package_folium/master/data/tiles.csv', index_col=0)\n",
    "    #print(df)\n",
    "   \n",
    "    # Filter some tiles\n",
    "    #df = df[2:4]\n",
    "    #df = df.loc[(df['name'] == 'ESRI Satelite') | (df['name'] == 'ESRI Street')]\n",
    "    df = df[df['name'].str.startswith(('ESRI'))]\n",
    "\n",
    "    # For\n",
    "    for index, row in df.iterrows():\n",
    "        # Create reference to attribution\n",
    "        ref = ('<a href=\"' +\n",
    "               row['attribution'] +\n",
    "               '\" target=\"blank\">' +\n",
    "               row['name'] +\n",
    "               '</a>')\n",
    "\n",
    "        # Create multiples tiles layers\n",
    "        folium.TileLayer(tiles=row['link'],\n",
    "                         attr=ref,\n",
    "                         name=row['name'],\n",
    "                         ).add_to(m)\n",
    "\n",
    "    #  Add Legend\n",
    "    folium.LayerControl().add_to(m)\n",
    "\n",
    "    # Results\n",
    "    return m"
   ]
  },
  {
   "cell_type": "code",
   "execution_count": null,
   "metadata": {},
   "outputs": [],
   "source": [
    "m = create_map_multitiles(location=[-23.9619271, -46.3427499], zoom_start=10)\n",
    "#folium.LayerControl('topright', collapsed=False).add_to(m)\n",
    "m.save('maps/map.html')\n",
    "m"
   ]
  },
  {
   "cell_type": "markdown",
   "metadata": {},
   "source": [
    "# Outros elementos do _WebMap_"
   ]
  },
  {
   "cell_type": "markdown",
   "metadata": {},
   "source": [
    "## Logo"
   ]
  },
  {
   "cell_type": "code",
   "execution_count": null,
   "metadata": {},
   "outputs": [],
   "source": [
    "from PIL import Image\n",
    "import requests\n",
    "from io import BytesIO\n",
    "\n",
    "response = requests.get(src)\n",
    "img = Image.open(BytesIO(response.content))\n",
    "\n",
    "basewidth = 70\n",
    "wpercent = (basewidth/float(img.size[0]))\n",
    "hsize = int((float(img.size[1])*float(wpercent)))\n",
    "img = img.resize((basewidth,hsize), Image.ANTIALIAS)\n",
    "\n",
    "type(img)"
   ]
  },
  {
   "cell_type": "code",
   "execution_count": null,
   "metadata": {},
   "outputs": [],
   "source": [
    "import base64\n",
    "import folium\n",
    "import requests\n",
    "from folium.plugins import FloatImage\n",
    "\n",
    "# Cria o mapa\n",
    "m = folium.Map(location=[-20,-50])\n",
    "\n",
    "# Dados do Logo\n",
    "#src = 'https://raw.githubusercontent.com/michelmetran/michelmetran.github.io/master/img/mm.png'\n",
    "src = 'https://avatars3.githubusercontent.com/u/10374538?v=4&s=60'\n",
    "#src = 'https://i.imgur.com/XRdd9RL.png'\n",
    "site = 'https://michelmetran.github.io'\n",
    "alt = 'MichelMetran'\n",
    "size = '60px'\n",
    "\n",
    "# Works, but huge!\n",
    "FloatImage(src, bottom=1.3, left=1).add_to(m)\n",
    "\n",
    "# HTML\n",
    "html = \"<a href={}><img alt={} src={} width={}></a>\".format(site, alt, src, size)\n",
    "html = \"<img src={}>\".format(src)\n",
    "html = '<img src=https://michelmetran.github.io/img/mm.png width=40px>'\n",
    "\n",
    "# Not Work\n",
    "#FloatImage(html, bottom=40, left=10).add_to(m)\n",
    "\n",
    "# Imagem Encode e Decode\n",
    "#png = base64.b64encode(requests.get(src).content).decode()\n",
    "#png = '<img src=\"data:image/png;base64,{}\" width=90px>'.format(png)\n",
    "#FloatImage(png, bottom=40, left=1).add_to(m)\n",
    "\n",
    "# Print HTML\n",
    "print(html)\n",
    "\n",
    "m"
   ]
  },
  {
   "cell_type": "markdown",
   "metadata": {},
   "source": [
    "## Adiciona legenda"
   ]
  },
  {
   "cell_type": "code",
   "execution_count": null,
   "metadata": {},
   "outputs": [],
   "source": [
    "folium.LayerControl('topright', collapsed=False).add_to(m)\n",
    "m"
   ]
  },
  {
   "cell_type": "markdown",
   "metadata": {},
   "source": [
    "## A pontos *on-the-fly*"
   ]
  },
  {
   "cell_type": "code",
   "execution_count": null,
   "metadata": {},
   "outputs": [],
   "source": [
    "m.add_child(folium.ClickForMarker(popup='Waypoint'))\n",
    "m"
   ]
  },
  {
   "cell_type": "markdown",
   "metadata": {},
   "source": [
    "## Adiciona coordenadas no clique"
   ]
  },
  {
   "cell_type": "code",
   "execution_count": null,
   "metadata": {},
   "outputs": [],
   "source": [
    "m.add_child(folium.LatLngPopup())\n",
    "m"
   ]
  },
  {
   "cell_type": "markdown",
   "metadata": {},
   "source": [
    "## Localização Mouse"
   ]
  },
  {
   "cell_type": "code",
   "execution_count": null,
   "metadata": {},
   "outputs": [],
   "source": [
    "from folium.plugins import MousePosition\n",
    "\n",
    "m = folium.Map()\n",
    "\n",
    "#MousePosition().add_to(m)\n",
    "\n",
    "formatter = \"function(num) {return L.Util.formatNum(num, 3) + ' º';};\"\n",
    "\n",
    "MousePosition(\n",
    "    position='topright',\n",
    "    separator=' | ',\n",
    "    empty_string='NaN',\n",
    "    lng_first=True,\n",
    "    num_digits=20,\n",
    "    prefix='Coordinates:',\n",
    "    lat_formatter=formatter,\n",
    "    lng_formatter=formatter,\n",
    ").add_to(m)\n",
    "\n",
    "m"
   ]
  },
  {
   "cell_type": "markdown",
   "metadata": {},
   "source": [
    "## Fit map"
   ]
  },
  {
   "cell_type": "code",
   "execution_count": null,
   "metadata": {},
   "outputs": [],
   "source": [
    "m.fit_bounds(m.get_bounds())\n",
    "m"
   ]
  },
  {
   "cell_type": "markdown",
   "metadata": {},
   "source": [
    "## Full Screen"
   ]
  },
  {
   "cell_type": "code",
   "execution_count": null,
   "metadata": {},
   "outputs": [],
   "source": [
    "# Cria o mapa\n",
    "m = folium.Map(\n",
    "    location=[-23.9619271,-46.3427499],\n",
    "    zoom_start=12\n",
    ")\n",
    "\n",
    "# Maximiza/Minimiza o mapa\n",
    "from folium import plugins\n",
    "plugins.Fullscreen(\n",
    "    position='topleft',\n",
    "    title='Clique para Maximizar',\n",
    "    title_cancel='Mininizar',\n",
    "    force_separate_button=True).add_to(m)\n",
    "\n",
    "m"
   ]
  },
  {
   "cell_type": "markdown",
   "metadata": {},
   "source": [
    "## Medição"
   ]
  },
  {
   "cell_type": "code",
   "execution_count": null,
   "metadata": {},
   "outputs": [],
   "source": [
    "# Cria o mapa\n",
    "m = folium.Map(\n",
    "    location=[-23.9619271,-46.3427499],\n",
    "    zoom_start=12\n",
    ")\n",
    "\n",
    "# Adiciona ferramenta de medição\n",
    "from folium.plugins import MeasureControl\n",
    "m.add_child(MeasureControl())\n",
    "\n",
    "m"
   ]
  },
  {
   "cell_type": "markdown",
   "metadata": {},
   "source": [
    "# Mapas Complexos"
   ]
  },
  {
   "cell_type": "markdown",
   "metadata": {},
   "source": [
    "## Heat Map"
   ]
  },
  {
   "cell_type": "code",
   "execution_count": null,
   "metadata": {},
   "outputs": [],
   "source": [
    "# HeatMap https://minerandodados.com.br/visualizando-mapas-interativos-com-python/\n",
    "from folium.plugins import HeatMap\n",
    "\n",
    "# Cria o mapa\n",
    "m = folium.Map(\n",
    "    location=[-23.9619271,-46.3427499],\n",
    "    zoom_start=12\n",
    ")\n",
    "\n",
    "# Lendo e filtrando dados\n",
    "df = pd.read_csv('data/empresas.xz')\n",
    "\n",
    "# HeapMap\n",
    "hm_wide = HeatMap(list(zip(df['latitude'].values,\n",
    "                           df['longitude'].values)),\n",
    "                  min_opacity=0.10,\n",
    "                  radius=10,\n",
    "                  blur=15,\n",
    "                  max_zoom=1\n",
    "                 )\n",
    "\n",
    "m.add_child(hm_wide)\n",
    "\n",
    "# Apresenta o mapa\n",
    "m"
   ]
  },
  {
   "cell_type": "markdown",
   "metadata": {},
   "source": [
    "## Dual Map"
   ]
  },
  {
   "cell_type": "code",
   "execution_count": null,
   "metadata": {},
   "outputs": [],
   "source": [
    "# DualMap accepts the same arguments as Map:\n",
    "from folium.plugins import DualMap\n",
    "\n",
    "m = DualMap(location=(0, 0), tiles='cartodbpositron', zoom_start=5)\n",
    "\n",
    "# Add the same marker to both maps:\n",
    "folium.Marker((0, 0)).add_to(m)\n",
    "\n",
    "# The individual maps are attributes called `m1` and `m2`:\n",
    "folium.Marker((0, 1)).add_to(m.m1)\n",
    "\n",
    "folium.LayerControl().add_to(m)\n",
    "\n",
    "m"
   ]
  },
  {
   "cell_type": "code",
   "execution_count": null,
   "metadata": {},
   "outputs": [],
   "source": [
    "m = folium.plugins.DualMap(location=(52.1, 5.1), tiles=None, zoom_start=8)\n",
    "\n",
    "folium.TileLayer('openstreetmap').add_to(m.m1)\n",
    "folium.TileLayer('cartodbpositron').add_to(m.m2)\n",
    "\n",
    "folium.LayerControl(collapsed=False).add_to(m)\n",
    "m"
   ]
  },
  {
   "cell_type": "code",
   "execution_count": null,
   "metadata": {},
   "outputs": [],
   "source": [
    "m = folium.plugins.DualMap(layout='vertical')\n",
    "m"
   ]
  },
  {
   "cell_type": "code",
   "execution_count": null,
   "metadata": {},
   "outputs": [],
   "source": [
    "m = folium.plugins.DualMap(location=(52.1, 5.1), tiles='cartodbpositron', zoom_start=8)\n",
    "\n",
    "fg_both = folium.FeatureGroup(name='markers_both').add_to(m)\n",
    "fg_1 = folium.FeatureGroup(name='markers_1').add_to(m.m1)\n",
    "fg_2 = folium.FeatureGroup(name='markers_2').add_to(m.m2)\n",
    "\n",
    "icon_red = folium.Icon(color='red')\n",
    "folium.Marker((52.0, 5.0), tooltip='both', icon=icon_red).add_to(fg_both)\n",
    "folium.Marker((52.4, 5.0), tooltip='1').add_to(fg_1)\n",
    "folium.Marker((52.0, 5.4), tooltip='2').add_to(fg_2)\n",
    "\n",
    "folium.LayerControl(collapsed=False).add_to(m)\n",
    "m"
   ]
  },
  {
   "cell_type": "markdown",
   "metadata": {},
   "source": [
    "# Salvar o mapa em HTML\n",
    "\n",
    "A grande vantagem é salvar o mapa como um arquivo _.html_, bastante possivel para dar um _embed_ em qualquer página. Para salvar o resultado em um dado local, criei uma função que pode contribuir, avaliando se determinadas pastas estão criadas e, em caso negativo, cria as mesmas. Em uma destas pastas que ficará salvo o arquivo _.html_ criado"
   ]
  },
  {
   "cell_type": "code",
   "execution_count": null,
   "metadata": {},
   "outputs": [],
   "source": [
    "# %load '../codes/files/create_folders.py'\n",
    "def create_folders(path, folders=['data', 'docs', 'maps']):\n",
    "    \"\"\"\n",
    "    :param folders: Name os folders that you want create; E.g.: ['folder1', 'folder2']\n",
    "    :return: Create directories if not exist\n",
    "    \"\"\"\n",
    "    # Import Packages\n",
    "    import os\n",
    "    for folder in folders:\n",
    "        directory=os.path.join(path, folder)\n",
    "        try:\n",
    "            if not os.path.exists(directory):\n",
    "                os.makedirs(directory)\n",
    "                print('Directory \"', directory, '\" created!', sep='')\n",
    "            else:\n",
    "                print('Directory \"', directory, '\" already exists...', sep='')\n",
    "        except OSError:\n",
    "            print('Error: Creating directory \"', directory, '\" fail.', sep='')\n"
   ]
  },
  {
   "cell_type": "code",
   "execution_count": null,
   "metadata": {},
   "outputs": [],
   "source": [
    "create_folders('')"
   ]
  },
  {
   "cell_type": "code",
   "execution_count": null,
   "metadata": {},
   "outputs": [],
   "source": [
    "m.save('maps/map.html')"
   ]
  },
  {
   "cell_type": "markdown",
   "metadata": {},
   "source": [
    "O mapa em *.html*, que é possivel acessar por usando o <a title=\"Link do GitHack\" href=\"https://raw.githack.com\" target=\"_blank\">**_githack.com_**</a>. conforme segue:\n",
    "\n",
    "<iframe src=\"https://raw.githack.com/michelmetran/package_folium/master/maps/map.html\" width=\"800\" height=\"300\" frameborder=\"0\"></iframe>"
   ]
  },
  {
   "cell_type": "markdown",
   "metadata": {},
   "source": [
    "# Referências\n",
    "- https://www.freecodecamp.org/news/real-world-data-science-project-traffic-accident-analysis-e5a36775ee11/\n",
    "- Muita coisa interessante em https://www.youtube.com/watch?v=4RnU5qKTfYY\n",
    "- https://jtemporal.com/folium/\n",
    "- https://www.kaggle.com/rachan/how-to-folium-for-maps-heatmaps-time-analysis\n",
    "- Muitos exemplos de ipynb https://nbviewer.jupyter.org/github/python-visualization/folium/tree/master/examples/"
   ]
  },
  {
   "cell_type": "markdown",
   "metadata": {},
   "source": [
    "___\n",
    "\n",
    "# Exportando o _Juptyter Notebook_ para outros formatos\n",
    "O arquivo _.ipynb_ pode ser exportado em formatos diversos. Abaixo carrego uma função que escrevi para facilitar o processo de exportação do arquivo em diferentes locais do PC para, posteriormente, atualizar os repositórios contidos no <a title=\"Link do GitHub\" href=\"https://github.com/michelmetran\" target=\"_blank\">_GitHub_</a>."
   ]
  },
  {
   "cell_type": "code",
   "execution_count": null,
   "metadata": {},
   "outputs": [],
   "source": [
    "# %load '~/Documents/SourceCode/codes/files/export_jupyter.py'\n",
    "def export_jupyter(path, extensions=['html', 'markdown', 'latex', 'pdf', 'python'], today=True):\n",
    "    \"\"\"\n",
    "    Export .ipynb file to others formats\n",
    "    :return: File in other formats\n",
    "    \"\"\"\n",
    "    # Import Packages\n",
    "    import os\n",
    "    import datetime\n",
    "\n",
    "    # Data\n",
    "    timestamp = datetime.datetime.now()\n",
    "    srt_today = (str(timestamp.year) + '-' +\n",
    "                 str(f\"{timestamp.month:02d}\") + '-' +\n",
    "                 str(f\"{timestamp.day:02d}\"))\n",
    "\n",
    "    # Extensions\n",
    "    for extension in extensions:\n",
    "        if today==True:\n",
    "            os.system('jupyter nbconvert --to {} {} --output {}'.\n",
    "                      format(extension, get_jupyternotebook_name(),\n",
    "                             os.path.join(path, srt_today+'-'+get_jupyternotebook_name().split('.')[0])))\n",
    "            print('Arquivo {} exportado corretamente para o formato {} usando prefixo da data.'.\n",
    "                  format(get_jupyternotebook_name(), extension))\n",
    "\n",
    "        else:\n",
    "            os.system('jupyter nbconvert --to {} {} --output {}'.\n",
    "                      format(extension, get_jupyternotebook_name(),\n",
    "                             os.path.join(path, get_jupyternotebook_name().split('.')[0])))\n",
    "            print('Arquivo {} exportado corretamente para o formato {} sem usar prefixo da data.'.\n",
    "                  format(get_jupyternotebook_name(), extension))\n"
   ]
  },
  {
   "cell_type": "code",
   "execution_count": null,
   "metadata": {},
   "outputs": [],
   "source": [
    "# %load '~/Documents/SourceCode/codes/files/get_jupyternotebook_name.py'\n",
    "def get_jupyternotebook_name():\n",
    "    \"\"\"\n",
    "    Returns the name of the current notebook as a string\n",
    "    From https://mail.scipy.org/pipermail/ipython-dev/2014-June/014096.html\n",
    "    :return: Returns the name of the current notebook as a string\n",
    "    \"\"\"\n",
    "    # Import Packages\n",
    "    from IPython.core.display import Javascript\n",
    "    from IPython.display import display\n",
    "\n",
    "    display(Javascript('IPython.notebook.kernel.execute(\"theNotebook = \" + \\\n",
    "    \"\\'\"+IPython.notebook.notebook_name+\"\\'\");'))\n",
    "\n",
    "    # Result\n",
    "    return theNotebook\n"
   ]
  },
  {
   "cell_type": "markdown",
   "metadata": {},
   "source": [
    "Com as funções para exportar o _Jupyter Notebook_ e para obter o nome do arquivo _.ipynb_ carregadas, basta exportar o arquivo, inicialmente para a pasta _docs_ dentro do projeto e também, visando atualizar os _posts_ do site, para a respectiva pasta."
   ]
  },
  {
   "cell_type": "code",
   "execution_count": null,
   "metadata": {},
   "outputs": [],
   "source": [
    "export_jupyter('docs',['pdf'], False)\n",
    "export_jupyter('../michelmetran.github.io/_posts', ['markdown'], True)"
   ]
  },
  {
   "cell_type": "markdown",
   "metadata": {},
   "source": [
    "# Git\n",
    "Após as exportações dos arquivos nos formatos necessários, basta atualizar o repositório diretamente pelo  *Jupyter Notebook*.\n",
    "Abaixo é atualizado o repositório desse projeto específico, bem como a derivação desse projeto no <a title=\"Link do Folium\" href=\"https://michelmetran.github.io/\" target=\"_blank\">**_site_**</a>."
   ]
  },
  {
   "cell_type": "code",
   "execution_count": null,
   "metadata": {},
   "outputs": [],
   "source": [
    "%run '../codes/git/update_github.py'\n",
    "\n",
    "git_full('.', '.', 'Atualizando')\n",
    "#git_full('../michelmetran.github.io', '.', 'Atualizando')"
   ]
  }
 ],
 "metadata": {
  "kernelspec": {
   "display_name": "Python 3.8.2 64-bit ('pablocarreira-py38': conda)",
   "language": "python",
   "name": "python38264bitpablocarreirapy38conda1624f2f09c5f4385932981bc1d88933d"
  },
  "language_info": {
   "codemirror_mode": {
    "name": "ipython",
    "version": 3
   },
   "file_extension": ".py",
   "mimetype": "text/x-python",
   "name": "python",
   "nbconvert_exporter": "python",
   "pygments_lexer": "ipython3",
   "version": "3.8.2"
  },
  "toc": {
   "base_numbering": 1,
   "nav_menu": {
    "height": "228px",
    "width": "188px"
   },
   "number_sections": true,
   "sideBar": true,
   "skip_h1_title": false,
   "title_cell": "Table of Contents",
   "title_sidebar": "Contents",
   "toc_cell": false,
   "toc_position": {
    "height": "calc(100% - 180px)",
    "left": "10px",
    "top": "150px",
    "width": "165.6px"
   },
   "toc_section_display": true,
   "toc_window_display": true
  }
 },
 "nbformat": 4,
 "nbformat_minor": 2
}
