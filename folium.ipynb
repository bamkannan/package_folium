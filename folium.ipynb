{
 "cells": [
  {
   "cell_type": "markdown",
   "metadata": {},
   "source": [
    "---\n",
    "layout: post\n",
    "title: Folium\n",
    "subtitle: Exercícios e Referências\n",
    "tags: [python, pycharm, jupyter, package, folium]\n",
    "image: /img/posts/folium_icon.png\n",
    "bigimg: /img/posts/folium_big.png\n",
    "gh-repo: michelmetran/package_folium\n",
    "gh-badge: [follow, star, watch, fork]\n",
    "comments: true\n",
    "\n",
    "---"
   ]
  },
  {
   "cell_type": "markdown",
   "metadata": {},
   "source": [
    "O <a title=\"Link do Folium\" href=\"https://python-visualization.github.io/folium/index.html\" target=\"_blank\">***Folium***</a> é um pacote que possibilita a criação de mapas *online*, facilitando a visualização dos dados manipulados no *Python* em um mapa que usa a biblioteca JavaScript <a title=\"Link do Leaflet\" href=\"https://leafletjs.com/\" target=\"_blank\">***Leaflet***</a>.\n",
    "\n",
    "A biblioteca possui vários conjuntos de blocos internos do OpenStreetMap, Mapbox e Stamen, além de suportar conjuntos de blocos customizados com as chaves da API Mapbox ou Cloudmade. ***Folium*** suporta sobreposições de imagem, vídeo, GeoJSON e TopoJSON.\n",
    "<br>\n",
    "\n",
    "{: .box-warning}\n",
    "**Aviso:** Esse *post* tem a finalidade de mostrar os comandos básicos e me deixar com uma \"cola\" rápida para meu uso cotidiano. Todas os códigos são exemplificativos e podem/devem ser alterados, indicando o nome dos arquivos e diretórios corretamente.\n",
    "\n",
    "{: .box-note}\n",
    "**Nota:** É possível acessar esse *post* em formato <a title=\"Link do Folium\" href=\"https://github.com/michelmetran/package_folium/raw/master/docs/folium.pdf\" target=\"_blank\">***pdf***</a>, diretamente por meio do <a title=\"Link do Repositório\" href=\"https://github.com/michelmetran/package_folium\" target=\"_blank\">**repositório do GitHub**</a> ou ainda, de maneira interativa, usando o [![Binder](https://mybinder.org/badge_logo.svg)](https://mybinder.org/v2/gh/michelmetran/package_folium/master)."
   ]
  },
  {
   "cell_type": "markdown",
   "metadata": {},
   "source": [
    "# Importando Bibliotecas\n",
    "\n",
    "As bibliotecas básicas, ou *packages*, necessárias para criação do mapa são:\n",
    "- O ***Pandas***, que tem a missão de trabalhar com dados, criar *subsets*, selecionar e filtros dados e;\n",
    "- O ***Folium***, que é a biblioteca que cria, na prática, o mapa!"
   ]
  },
  {
   "cell_type": "code",
   "execution_count": null,
   "metadata": {},
   "outputs": [],
   "source": [
    "import os\n",
    "import json\n",
    "import folium\n",
    "import pandas as pd\n",
    "import geopandas as gpd"
   ]
  },
  {
   "cell_type": "markdown",
   "metadata": {},
   "source": [
    "# Criando um mapa\n",
    "\n",
    "Basta um par de coordenadas -- que pode ser obtida facilmente no _link_ de qualquer endereço usando <a title=\"Link do Google Maps\" href=\"https://www.google.com.br/maps\" target=\"_blank\">**_Google Maps_**</a> -- e um nível de zoom que o mapa já está criado."
   ]
  },
  {
   "cell_type": "code",
   "execution_count": null,
   "metadata": {},
   "outputs": [],
   "source": [
    "folium.Map(\n",
    "    location=[-23.9619271, -46.3427499],    # Define coordenadas iniciais\n",
    "    #min_zoom=6,                            # Define qual o menor zoom\n",
    "    #max_zoom=14,                           # Define qual o maior zoom\n",
    "    #no_wrap=True,\n",
    "    max_bounds=True,\n",
    "    zoom_start=12,                          # Define o zoom do início\n",
    "    control_scale=True,                     # Define se terá barra de escala\n",
    "    #width=width,\n",
    "    #height=height,\n",
    ")"
   ]
  },
  {
   "cell_type": "markdown",
   "metadata": {},
   "source": [
    "Utilizando um conjunto de dados apresentado em <a title=\"Link de Jessica Temporal\" href=\"https://jtemporal.com/folium\" target=\"_blank\">**Jessica Temporal**</a>, contendo coordenadas geográficas de empresas, podemos extrair uma empresa específica e plotar no mapa, ou ainda trabalhar de outras maneiras com esses dados."
   ]
  },
  {
   "cell_type": "code",
   "execution_count": null,
   "metadata": {},
   "outputs": [],
   "source": [
    "# Lendo e filtrando dados\n",
    "df = pd.read_csv('data/empresas.xz')\n",
    "df = df[df['state'] == 'SP']\n",
    "df = df[df['city'] == 'SANTOS']\n",
    "\n",
    "df.dtypes\n",
    "#df.head(10)"
   ]
  },
  {
   "cell_type": "markdown",
   "metadata": {},
   "source": [
    "## Inserindo algumas coordenadas"
   ]
  },
  {
   "cell_type": "code",
   "execution_count": null,
   "metadata": {},
   "outputs": [],
   "source": [
    "# Cria o mapa\n",
    "m = folium.Map(\n",
    "    location=[0,0],\n",
    "    zoom_start=15,\n",
    "    min_zoom = 10,\n",
    "    max_zoom = 15,\n",
    "    max_bounds = True\n",
    "    #min_lat = min_lat,\n",
    "    #max_lat = max_lat,\n",
    "    #min_lon = min_long,\n",
    "    #max_lon = max_long\n",
    ")\n",
    "\n",
    "# Extrai informações de duas empresas\n",
    "df1 = df.iloc[0]\n",
    "df2 = df.iloc[1]\n",
    "\n",
    "# Adiciona no mapa tais empresas\n",
    "folium.Marker(\n",
    "    location=[df1['latitude'], df1['longitude']],\n",
    ").add_to(m)\n",
    "\n",
    "folium.Marker(\n",
    "    location=[df2['latitude'], df2['longitude']],\n",
    ").add_to(m)\n",
    "\n",
    "# Limite o zoom às feiçoes inseridas\n",
    "m.fit_bounds(m.get_bounds())\n",
    "m.get_bounds()[0]\n",
    "#min_lat, min_long = m.get_bounds()[1]\n",
    "#max_lat, max_long = m.get_bounds()[0]\n",
    "\n",
    "# Apresenta o mapa\n",
    "m"
   ]
  },
  {
   "cell_type": "markdown",
   "metadata": {},
   "source": [
    "## Inserindo multiplas coordenadas"
   ]
  },
  {
   "cell_type": "code",
   "execution_count": null,
   "metadata": {},
   "outputs": [],
   "source": [
    "# Cria o mapa\n",
    "m = folium.Map(\n",
    "    location=[-23.9619271,-46.3427499],\n",
    "    zoom_start=12\n",
    ")\n",
    "\n",
    "# Adiciona todas as empresas selecionadas\n",
    "for index, row in df.iterrows():\n",
    "    folium.Marker(\n",
    "        location=[row['latitude'], row['longitude']],\n",
    "        tooltip=row['neighborhood'],\n",
    "    ).add_to(m)\n",
    "\n",
    "# Apresenta o mapa\n",
    "m"
   ]
  },
  {
   "cell_type": "markdown",
   "metadata": {},
   "source": [
    "<br>\n",
    "\n",
    "# Inserindo feições\n",
    "\n",
    "As feições que são possiveis de apresentar são àquelas típicas do geoprocessamento:\n",
    "- Pontos;\n",
    "- Linhas;\n",
    "- Polígonos\n",
    "\n",
    "Abaixo são apresentados alguns tipos de marcadores.\n",
    "\n",
    "PS: Um site relevante para obter as cores em formato hexadecimal (bastante utilizado na definição dos *styles* do **folium** é usando o site [ColorBook.io](https://www.colorbook.io))."
   ]
  },
  {
   "cell_type": "markdown",
   "metadata": {},
   "source": [
    "## Pontos Simples"
   ]
  },
  {
   "cell_type": "code",
   "execution_count": null,
   "metadata": {},
   "outputs": [],
   "source": [
    "# Cria o mapa\n",
    "m = folium.Map(\n",
    "    location=[-23.9619271,-46.3427499],\n",
    "    zoom_start=12\n",
    ")\n",
    "\n",
    "# Cria cores para as tags\n",
    "colors = {\n",
    "    'PONTA DA PRAIA': 'pink',\n",
    "    'CENTRO': 'blue',\n",
    "    'GONZAGA': 'green',\n",
    "    'JOSÉ MENINO': 'red',\n",
    "    'EMBARE': 'beige',\n",
    "    'MACUCO': 'blue',\n",
    "    'VILA MATHIAS': 'lightblue',\n",
    "    'POMPEIA': 'red',\n",
    "    'APARECIDA': 'purple'\n",
    "}\n",
    "\n",
    "# Adiciona as diferentes empresas com cores por bairros\n",
    "for index, row in df.iterrows():\n",
    "    if row['neighborhood'] in colors.keys():\n",
    "        folium.Marker(\n",
    "            location=[row['latitude'], row['longitude']],\n",
    "            popup=row['name'],\n",
    "            tooltip=row['neighborhood'],\n",
    "            icon=folium.Icon(color=colors[row['neighborhood']], icon='leaf')\n",
    "        ).add_to(m)\n",
    "\n",
    "# Apresenta o mapa\n",
    "m"
   ]
  },
  {
   "cell_type": "markdown",
   "metadata": {},
   "source": [
    "## Ponto com Buffer"
   ]
  },
  {
   "cell_type": "code",
   "execution_count": null,
   "metadata": {},
   "outputs": [],
   "source": [
    "# Cria o mapa\n",
    "m = folium.Map(\n",
    "    location=[-23.9619271,-46.3427499],\n",
    "    zoom_start=12\n",
    ")\n",
    "\n",
    "# Adiciona as diferentes empresas com cores por bairros\n",
    "for index, row in df.iterrows():\n",
    "    if row['neighborhood'] in colors.keys():\n",
    "        folium.CircleMarker(\n",
    "        location=[row['latitude'], row['longitude']],        \n",
    "        radius=10,\n",
    "        popup='<strong>'+row['neighborhood']+'</strong>',\n",
    "        tooltip='Dica',\n",
    "        fill=True,\n",
    "        #fill_color='#428bca'\n",
    "        fill_color=colors[row['neighborhood']]\n",
    "    ).add_to(m)\n",
    "\n",
    "# Apresenta o mapa\n",
    "m"
   ]
  },
  {
   "cell_type": "markdown",
   "metadata": {},
   "source": [
    "## Custom Icon\n",
    "\n",
    "https://www.w3schools.com/icons/default.asp\n",
    "\n",
    "https://fontawesome.com/v4.7.0/icons/ (não funciona o 5.0)\n",
    "https://stackoverflow.com/questions/58607693/how-to-use-folium-icon-with-fontawesome"
   ]
  },
  {
   "cell_type": "code",
   "execution_count": null,
   "metadata": {},
   "outputs": [],
   "source": [
    "pointIcon_url = 'http://maps.google.com/mapfiles/kml/shapes/shaded_dot.png'\n",
    "icon = folium.features.CustomIcon(pointIcon_url, icon_size=(15, 15))\n",
    "icon"
   ]
  },
  {
   "cell_type": "markdown",
   "metadata": {},
   "source": [
    "## Vegas\n",
    "O _folium_ tem o vegas https://vega.github.io/vega/ como _default_."
   ]
  },
  {
   "cell_type": "code",
   "execution_count": null,
   "metadata": {},
   "outputs": [],
   "source": [
    "# Cria o mapa\n",
    "m = folium.Map(\n",
    "    location=[-23.9619271,-46.3427499],\n",
    "    zoom_start=12\n",
    ")\n",
    "\n",
    "# Importa bibliotecas e lê o json\n",
    "vis = os.path.join('data', 'vis.json')\n",
    "\n",
    "# Adiciona as diferentes empresas com gráficos no popup\n",
    "for index, row in df.iterrows():\n",
    "    if row['neighborhood'] in colors.keys():\n",
    "        folium.Marker(\n",
    "            location=[row['latitude'], row['longitude']],            \n",
    "            popup=folium.Popup(max_width=450).add_child(folium.Vega(json.load(open(vis)), width=450, height=250))\n",
    ").add_to(m)\n",
    "        \n",
    "# Display Map\n",
    "m"
   ]
  },
  {
   "cell_type": "markdown",
   "metadata": {},
   "source": [
    "## Geojson\n",
    "\n",
    "É possível também inserir desenhos em formato **_GeoJson_**, o que abre grandes possibilidades.\n",
    "Para rabiscos aleatórios, anotações etc, é possivel criar o arquivo usando http://geojson.io."
   ]
  },
  {
   "cell_type": "code",
   "execution_count": null,
   "metadata": {},
   "outputs": [],
   "source": [
    "# Cria o mapa\n",
    "m = folium.Map(\n",
    "    location=[-23.9619271,-46.3427499],\n",
    "    zoom_start=12,\n",
    ")\n",
    "\n",
    "# Importa bibliotecas e lê o json\n",
    "shp = os.path.join('data', 'trajetos.json')\n",
    "\n",
    "# Adiciona as diferentes empresas com gráficos no popup\n",
    "a = folium.GeoJson(shp, name='Trajetos')\n",
    "folium.GeoJson(shp, name='Trajetos').add_to(m)\n",
    "\n",
    "# Apresenta o mapa\n",
    "m"
   ]
  },
  {
   "cell_type": "markdown",
   "metadata": {},
   "source": [
    "## Geojson in URL"
   ]
  },
  {
   "cell_type": "code",
   "execution_count": null,
   "metadata": {},
   "outputs": [],
   "source": [
    "# Map Object\n",
    "m = folium.Map(location=(0,0),\n",
    "               zoom_start=2)\n",
    "\n",
    "# Data: Link to geojson\n",
    "json_url = 'https://raw.githubusercontent.com/datasets/geo-boundaries-world-110m/master/countries.geojson'\n",
    "\n",
    "# Adiciona GeoJson\n",
    "a = folium.GeoJson(shp, name='Trajetos').add_to(m)\n",
    "\n",
    "# Folium Object\n",
    "folium.Choropleth(\n",
    "    geo_data=json_url,\n",
    "    fill_color='YlGn',\n",
    "    fill_opacity=0.7,\n",
    "    line_opacity=0.2,\n",
    "    legend_name='Limites').add_to(m)\n",
    "\n",
    "# Ordena Layers\n",
    "m.keep_in_front(a)\n",
    "\n",
    "# Display Map\n",
    "m"
   ]
  },
  {
   "cell_type": "markdown",
   "metadata": {},
   "source": [
    "## GeoDataFrame"
   ]
  },
  {
   "cell_type": "code",
   "execution_count": null,
   "metadata": {},
   "outputs": [],
   "source": [
    "# Cria geopandas Object\n",
    "gdf = gpd.read_file(os.path.join('data', 'Piracicaba.shp'))\n",
    "\n",
    "# Transform Coordenate and Format\n",
    "gjson = gdf.to_crs(epsg='4326').to_json()\n",
    "\n",
    "# Cria mapa\n",
    "m = folium.Map([-15.783333, -47.866667],\n",
    "               min_zoom=9,\n",
    "               tiles='cartodbpositron')\n",
    "\n",
    "shp = folium.features.GeoJson(gjson)\n",
    "m.add_child(shp)\n",
    "m.fit_bounds(m.get_bounds())\n",
    "\n",
    "# Plota Mapa\n",
    "m"
   ]
  },
  {
   "cell_type": "markdown",
   "metadata": {},
   "source": [
    "## WMS"
   ]
  },
  {
   "cell_type": "code",
   "execution_count": null,
   "metadata": {},
   "outputs": [],
   "source": [
    "m = folium.Map(location=[28, -81], zoom_start=6)\n",
    "\n",
    "folium.raster_layers.WmsTileLayer(\n",
    "    url='http://mesonet.agron.iastate.edu/cgi-bin/wms/nexrad/n0r.cgi',\n",
    "    name='test',\n",
    "    fmt='image/png',\n",
    "    layers='nexrad-n0r-900913',\n",
    "    attr=u'Weather data © 2012 IEM Nexrad',\n",
    "    transparent=True,\n",
    "    overlay=True,\n",
    "    control=True,\n",
    ").add_to(m)\n",
    "\n",
    "m"
   ]
  },
  {
   "cell_type": "code",
   "execution_count": null,
   "metadata": {},
   "outputs": [],
   "source": [
    "m = folium.Map(location=[-22, -55], zoom_start=6)\n",
    "\n",
    "folium.raster_layers.WmsTileLayer(\n",
    "    url='http://datageo.ambiente.sp.gov.br/geoserver/ows?SERVICE=WMS&',\n",
    "    name='test',\n",
    "    fmt='image/png',\n",
    "    layers='vwm_car_propriedades_publico_ugrhi_5_pol',\n",
    "    attr=u'Weather data © 2012 IEM Nexrad',\n",
    "    transparent=True,\n",
    "    overlay=True,\n",
    "    control=True,\n",
    ").add_to(m)\n",
    "\n",
    "#m\n",
    "\n",
    "from folium.plugins import MousePosition\n",
    "#m = folium.Map()\n",
    "MousePosition().add_to(m)\n",
    "m"
   ]
  },
  {
   "cell_type": "markdown",
   "metadata": {},
   "source": [
    "## _Join_ e Categorias"
   ]
  },
  {
   "cell_type": "code",
   "execution_count": null,
   "metadata": {},
   "outputs": [],
   "source": [
    "# Data\n",
    "states = os.path.join('data', 'us-states.json')\n",
    "unemployement_data = os.path.join('data', 'us_unemployment.csv')\n",
    "df = pd.read_csv(unemployement_data)\n",
    "\n",
    "# \n",
    "print(df.head())\n",
    "\n",
    "# Map Object\n",
    "m = folium.Map(location=[48, -102],\n",
    "               zoom_start=3)\n",
    "\n",
    "# Folium Object\n",
    "folium.Choropleth(\n",
    "    geo_data=states,\n",
    "    name='States',\n",
    "    data=df,\n",
    "    columns=['State', 'Unemployment'],\n",
    "    key_on='feature.id',                    # Campo, no geojson, que tem o identificador\n",
    "    fill_color='YlGn',\n",
    "    fill_opacity=0.7,\n",
    "    line_opacity=0.2,\n",
    "    legend_name='Unemployment Rate %'\n",
    ").add_to(m)\n",
    "\n",
    "# Add Features\n",
    "folium.LayerControl().add_to(m)\n",
    "\n",
    "# Display Map\n",
    "m"
   ]
  },
  {
   "cell_type": "code",
   "execution_count": null,
   "metadata": {},
   "outputs": [],
   "source": [
    "#json.load(open(states))"
   ]
  },
  {
   "cell_type": "markdown",
   "metadata": {},
   "source": [
    "# Basemap"
   ]
  },
  {
   "cell_type": "markdown",
   "metadata": {},
   "source": [
    "## Por nome\n",
    "O mapa pode ter diferentes *basemaps*, que são, na essência, o mapa de fundo renderizado em *titles*. O *folium* utiliza, por *default*, o basemap do *OpenStreetMap*, contudo existe a possibilidade de adicionar outros serviços, conforme se vê abaixo."
   ]
  },
  {
   "cell_type": "code",
   "execution_count": null,
   "metadata": {},
   "outputs": [],
   "source": [
    "folium.Map(\n",
    "    location=[-23.9619271,-46.3427499],\n",
    "    #tiles='Mapbox Bright',\n",
    "    #tiles='Mapbox Control Room',\n",
    "    #tiles='Stamen Toner',\n",
    "    #tiles='Stamen Terrain',\n",
    "    #tiles='OpenStreetMap',\n",
    "    zoom_start=12\n",
    ")"
   ]
  },
  {
   "cell_type": "markdown",
   "metadata": {},
   "source": [
    "Um outro jeito de inserir _basemaps_ é utilizado o <a title=\"Link do MapBox\" href=\"https://www.mapbox.com\" target=\"_blank\">MapBox</a>, onde é possível customizar um _basemap_ personalizado, bem como utilizar outros _basemaps_ pré-existentes, incluindo imagens de satélite de alta resolução, etc.\n",
    "\n",
    "Para melhor utilização, com a possiblidade de disponibilizar códigos, é necessário estudar a melhor maneira de ocultar a _API key_. Um início:\n",
    "- http://www.blacktechdiva.com/hide-api-keys/\n",
    "- https://www.quora.com/How-do-you-hide-your-API-customer-key-token-when-youre-pushing-code-to-Github"
   ]
  },
  {
   "cell_type": "code",
   "execution_count": null,
   "metadata": {},
   "outputs": [],
   "source": [
    "#folium.Map(location=[-23.9619271,-46.3427499],\n",
    "#           tiles='Mapbox',\n",
    "#           API_key='your.API.key',\n",
    "#           zoom_start=12\n",
    "#          )"
   ]
  },
  {
   "cell_type": "markdown",
   "metadata": {},
   "source": [
    "## Por endereço do title (x, y, z)"
   ]
  },
  {
   "cell_type": "markdown",
   "metadata": {},
   "source": [
    "Por fim, é possivel ainda inserir _basemaps_ personalizados, disponibilizados em algum servidor."
   ]
  },
  {
   "cell_type": "code",
   "execution_count": null,
   "metadata": {},
   "outputs": [],
   "source": [
    "# Cria o mapa com servidores dos tiles\n",
    "folium.Map(location=[-23.9619271,-46.3427499],\n",
    "           zoom_start=12,\n",
    "           tiles='http://{s}.tile.osm.org/{z}/{x}/{y}.png',\n",
    "           attr=' '\n",
    "          )"
   ]
  },
  {
   "cell_type": "code",
   "execution_count": null,
   "metadata": {},
   "outputs": [],
   "source": [
    "folium.raster_layers.TileLayer(\n",
    "    tiles='http://{s}.google.com/vt/lyrs=m&x={x}&y={y}&z={z}',\n",
    "    attr='google',\n",
    "    name='google street view',\n",
    "    max_zoom=20,\n",
    "    subdomains=['mt0', 'mt1', 'mt2', 'mt3'],\n",
    "    overlay=False,\n",
    "    control=True,\n",
    ").add_to(m)\n",
    "\n",
    "m"
   ]
  },
  {
   "cell_type": "code",
   "execution_count": null,
   "metadata": {},
   "outputs": [],
   "source": [
    "%run '../codes/maps/create_tiles_folium.py'\n",
    "\n",
    "create_tiles_folium(5)"
   ]
  },
  {
   "cell_type": "markdown",
   "metadata": {},
   "source": [
    "## Multiplos\n",
    "\n",
    "Ainda, é possível criar um objeto que não tenha nenhum mapa por padrão. Daí, em seguinda, se inserem diversos mapas."
   ]
  },
  {
   "cell_type": "code",
   "execution_count": null,
   "metadata": {},
   "outputs": [],
   "source": [
    "import folium\n",
    "\n",
    "m = folium.Map(location=[-23.9619271,-46.3427499],\n",
    "               zoom_start=12,\n",
    "               tiles=None,)\n",
    "\n",
    "folium.TileLayer('openstreetmap').add_to(m)\n",
    "folium.TileLayer('stamentoner').add_to(m)\n",
    "folium.TileLayer(tiles='https://services.arcgisonline.com/ArcGIS/rest/services/NatGeo_World_Map/MapServer/tile/{z}/{y}/{x}',\n",
    "                 name='ESRI',\n",
    "                 attr='s',\n",
    "                ).add_to(m)\n",
    "folium.TileLayer('stamenTerrain').add_to(m)\n",
    "folium.TileLayer('stamenwatercolor').add_to(m)\n",
    "folium.TileLayer('cartodbpositron').add_to(m)\n",
    "folium.TileLayer('cartodbdark_matter').add_to(m)\n",
    "folium.LayerControl().add_to(m)\n",
    "\n",
    "m"
   ]
  },
  {
   "cell_type": "markdown",
   "metadata": {},
   "source": [
    "# Outros elementos do _WebMap_"
   ]
  },
  {
   "cell_type": "markdown",
   "metadata": {},
   "source": [
    "## Logo"
   ]
  },
  {
   "cell_type": "code",
   "execution_count": null,
   "metadata": {},
   "outputs": [],
   "source": [
    "import base64\n",
    "import folium\n",
    "import requests\n",
    "from folium.plugins import FloatImage\n",
    "\n",
    "# Cria o mapa\n",
    "del m\n",
    "m = folium.Map(location=[-20,-50])\n",
    "\n",
    "# Dados do Logo\n",
    "src = 'https://raw.githubusercontent.com/michelmetran/michelmetran.github.io/master/img/mm.png'\n",
    "site = 'https://michelmetran.github.io'\n",
    "alt = 'MichelMetran'\n",
    "size = '60px'\n",
    "\n",
    "# HTML\n",
    "html = \"<a href={}><img alt={} src={} width={}></a>\".format(site, alt, src, size)\n",
    "html = \"<img src={}>\".format(src)\n",
    "html = '<img src=https://michelmetran.github.io/img/mm.png>'\n",
    "\n",
    "# Imagem Encode e Decode\n",
    "png = base64.b64encode(requests.get(src).content).decode()\n",
    "png = '<img src=\"data:image/png;base64,{}\" width=90px>'.format(png)\n",
    "\n",
    "# Print HTML\n",
    "print(html)\n",
    "\n",
    "# Not Work\n",
    "#FloatImage(png, bottom=40, left=1).add_to(m)\n",
    "\n",
    "# Not Work\n",
    "FloatImage(html, bottom=40, left=10).add_to(m)\n",
    "\n",
    "# Works, but huge!\n",
    "FloatImage(src, bottom=5, left=20).add_to(m)\n",
    "\n",
    "m"
   ]
  },
  {
   "cell_type": "markdown",
   "metadata": {
    "variables": {
     "png": "<img src=\"data:image/png;base64,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\" width=90px>"
    }
   },
   "source": [
    "Arquivo PNG: {{png}}"
   ]
  },
  {
   "cell_type": "code",
   "execution_count": null,
   "metadata": {},
   "outputs": [],
   "source": [
    "m = folium.Map()\n",
    "float_image = folium.plugins.FloatImage(src, bottom=5, left=20).add_to(m)\n",
    "template = '<img>src={name} width=50px >'\n",
    "style = template.format(name=float_image.get_name())\n",
    "print(style)\n",
    "m.get_root()\n",
    "m"
   ]
  },
  {
   "cell_type": "markdown",
   "metadata": {
    "variables": {
     "html": "<img src=https://michelmetran.github.io/img/mm.png>"
    }
   },
   "source": [
    "Arquivo HTML: {{html}}"
   ]
  },
  {
   "cell_type": "markdown",
   "metadata": {},
   "source": [
    "## Adiciona legenda"
   ]
  },
  {
   "cell_type": "code",
   "execution_count": null,
   "metadata": {},
   "outputs": [],
   "source": [
    "folium.LayerControl('topright', collapsed=False).add_to(m)\n",
    "m"
   ]
  },
  {
   "cell_type": "markdown",
   "metadata": {},
   "source": [
    "## A pontos *on-the-fly*"
   ]
  },
  {
   "cell_type": "code",
   "execution_count": null,
   "metadata": {},
   "outputs": [],
   "source": [
    "m.add_child(folium.ClickForMarker(popup='Waypoint'))\n",
    "m"
   ]
  },
  {
   "cell_type": "markdown",
   "metadata": {},
   "source": [
    "## Adiciona coordenadas no clique"
   ]
  },
  {
   "cell_type": "code",
   "execution_count": null,
   "metadata": {},
   "outputs": [],
   "source": [
    "m.add_child(folium.LatLngPopup())\n",
    "m"
   ]
  },
  {
   "cell_type": "markdown",
   "metadata": {},
   "source": [
    "## Localização Mouse"
   ]
  },
  {
   "cell_type": "code",
   "execution_count": null,
   "metadata": {},
   "outputs": [],
   "source": [
    "from folium.plugins import MousePosition\n",
    "\n",
    "m = folium.Map()\n",
    "\n",
    "#MousePosition().add_to(m)\n",
    "\n",
    "formatter = \"function(num) {return L.Util.formatNum(num, 3) + ' º';};\"\n",
    "\n",
    "MousePosition(\n",
    "    position='topright',\n",
    "    separator=' | ',\n",
    "    empty_string='NaN',\n",
    "    lng_first=True,\n",
    "    num_digits=20,\n",
    "    prefix='Coordinates:',\n",
    "    lat_formatter=formatter,\n",
    "    lng_formatter=formatter,\n",
    ").add_to(m)\n",
    "\n",
    "m"
   ]
  },
  {
   "cell_type": "markdown",
   "metadata": {},
   "source": [
    "## Fit map"
   ]
  },
  {
   "cell_type": "code",
   "execution_count": null,
   "metadata": {},
   "outputs": [],
   "source": [
    "m.fit_bounds(m.get_bounds())\n",
    "m"
   ]
  },
  {
   "cell_type": "markdown",
   "metadata": {},
   "source": [
    "## Full Screen"
   ]
  },
  {
   "cell_type": "code",
   "execution_count": null,
   "metadata": {},
   "outputs": [],
   "source": [
    "# Cria o mapa\n",
    "m = folium.Map(\n",
    "    location=[-23.9619271,-46.3427499],\n",
    "    zoom_start=12\n",
    ")\n",
    "\n",
    "# Maximiza/Minimiza o mapa\n",
    "from folium import plugins\n",
    "plugins.Fullscreen(\n",
    "    position='topleft',\n",
    "    title='Clique para Maximizar',\n",
    "    title_cancel='Mininizar',\n",
    "    force_separate_button=True).add_to(m)\n",
    "\n",
    "m"
   ]
  },
  {
   "cell_type": "markdown",
   "metadata": {},
   "source": [
    "## Medição"
   ]
  },
  {
   "cell_type": "code",
   "execution_count": null,
   "metadata": {},
   "outputs": [],
   "source": [
    "# Cria o mapa\n",
    "m = folium.Map(\n",
    "    location=[-23.9619271,-46.3427499],\n",
    "    zoom_start=12\n",
    ")\n",
    "\n",
    "# Adiciona ferramenta de medição\n",
    "from folium.plugins import MeasureControl\n",
    "m.add_child(MeasureControl())\n",
    "\n",
    "m"
   ]
  },
  {
   "cell_type": "markdown",
   "metadata": {},
   "source": [
    "# Mapas Complexos"
   ]
  },
  {
   "cell_type": "markdown",
   "metadata": {},
   "source": [
    "## Heat Map"
   ]
  },
  {
   "cell_type": "code",
   "execution_count": null,
   "metadata": {},
   "outputs": [],
   "source": [
    "# HeatMap https://minerandodados.com.br/visualizando-mapas-interativos-com-python/\n",
    "from folium.plugins import HeatMap\n",
    "\n",
    "# Cria o mapa\n",
    "m = folium.Map(\n",
    "    location=[-23.9619271,-46.3427499],\n",
    "    zoom_start=12\n",
    ")\n",
    "\n",
    "# Lendo e filtrando dados\n",
    "df = pd.read_csv('data/empresas.xz')\n",
    "\n",
    "# HeapMap\n",
    "hm_wide = HeatMap(list(zip(df['latitude'].values,\n",
    "                           df['longitude'].values)),\n",
    "                  min_opacity=0.10,\n",
    "                  radius=10,\n",
    "                  blur=15,\n",
    "                  max_zoom=1\n",
    "                 )\n",
    "\n",
    "m.add_child(hm_wide)\n",
    "\n",
    "# Apresenta o mapa\n",
    "m"
   ]
  },
  {
   "cell_type": "markdown",
   "metadata": {},
   "source": [
    "## Dual Map"
   ]
  },
  {
   "cell_type": "code",
   "execution_count": null,
   "metadata": {},
   "outputs": [],
   "source": [
    "# DualMap accepts the same arguments as Map:\n",
    "from folium.plugins import DualMap\n",
    "\n",
    "m = DualMap(location=(0, 0), tiles='cartodbpositron', zoom_start=5)\n",
    "\n",
    "# Add the same marker to both maps:\n",
    "folium.Marker((0, 0)).add_to(m)\n",
    "\n",
    "# The individual maps are attributes called `m1` and `m2`:\n",
    "folium.Marker((0, 1)).add_to(m.m1)\n",
    "\n",
    "folium.LayerControl().add_to(m)\n",
    "\n",
    "m"
   ]
  },
  {
   "cell_type": "code",
   "execution_count": null,
   "metadata": {},
   "outputs": [],
   "source": [
    "m = folium.plugins.DualMap(location=(52.1, 5.1), tiles=None, zoom_start=8)\n",
    "\n",
    "folium.TileLayer('openstreetmap').add_to(m.m1)\n",
    "folium.TileLayer('cartodbpositron').add_to(m.m2)\n",
    "\n",
    "folium.LayerControl(collapsed=False).add_to(m)\n",
    "m"
   ]
  },
  {
   "cell_type": "code",
   "execution_count": null,
   "metadata": {},
   "outputs": [],
   "source": [
    "m = folium.plugins.DualMap(layout='vertical')\n",
    "m"
   ]
  },
  {
   "cell_type": "code",
   "execution_count": null,
   "metadata": {},
   "outputs": [],
   "source": [
    "m = folium.plugins.DualMap(location=(52.1, 5.1), tiles='cartodbpositron', zoom_start=8)\n",
    "\n",
    "fg_both = folium.FeatureGroup(name='markers_both').add_to(m)\n",
    "fg_1 = folium.FeatureGroup(name='markers_1').add_to(m.m1)\n",
    "fg_2 = folium.FeatureGroup(name='markers_2').add_to(m.m2)\n",
    "\n",
    "icon_red = folium.Icon(color='red')\n",
    "folium.Marker((52.0, 5.0), tooltip='both', icon=icon_red).add_to(fg_both)\n",
    "folium.Marker((52.4, 5.0), tooltip='1').add_to(fg_1)\n",
    "folium.Marker((52.0, 5.4), tooltip='2').add_to(fg_2)\n",
    "\n",
    "folium.LayerControl(collapsed=False).add_to(m)\n",
    "m"
   ]
  },
  {
   "cell_type": "markdown",
   "metadata": {},
   "source": [
    "# Salvar o mapa em HTML\n",
    "\n",
    "A grande vantagem é salvar o mapa como um arquivo _.html_, bastante possivel para dar um _embed_ em qualquer página. Para salvar o resultado em um dado local, criei uma função que pode contribuir, avaliando se determinadas pastas estão criadas e, em caso negativo, cria as mesmas. Em uma destas pastas que ficará salvo o arquivo _.html_ criado"
   ]
  },
  {
   "cell_type": "code",
   "execution_count": null,
   "metadata": {},
   "outputs": [],
   "source": [
    "# %load '../codes/files/create_folders.py'\n",
    "def create_folders(path, folders=['data', 'docs', 'maps']):\n",
    "    \"\"\"\n",
    "    :param folders: Name os folders that you want create; E.g.: ['folder1', 'folder2']\n",
    "    :return: Create directories if not exist\n",
    "    \"\"\"\n",
    "    # Import Packages\n",
    "    import os\n",
    "    for folder in folders:\n",
    "        directory=os.path.join(path, folder)\n",
    "        try:\n",
    "            if not os.path.exists(directory):\n",
    "                os.makedirs(directory)\n",
    "                print('Directory \"', directory, '\" created!', sep='')\n",
    "            else:\n",
    "                print('Directory \"', directory, '\" already exists...', sep='')\n",
    "        except OSError:\n",
    "            print('Error: Creating directory \"', directory, '\" fail.', sep='')\n"
   ]
  },
  {
   "cell_type": "code",
   "execution_count": null,
   "metadata": {},
   "outputs": [],
   "source": [
    "create_folders('')"
   ]
  },
  {
   "cell_type": "code",
   "execution_count": null,
   "metadata": {},
   "outputs": [],
   "source": [
    "m.save('maps/map.html')"
   ]
  },
  {
   "cell_type": "markdown",
   "metadata": {},
   "source": [
    "O mapa em *.html*, que é possivel acessar por usando o <a title=\"Link do GitHack\" href=\"https://raw.githack.com\" target=\"_blank\">**_githack.com_**</a>. conforme segue:\n",
    "\n",
    "<iframe src=\"https://raw.githack.com/michelmetran/package_folium/master/maps/map.html\" width=\"800\" height=\"300\" frameborder=\"0\"></iframe>"
   ]
  },
  {
   "cell_type": "markdown",
   "metadata": {},
   "source": [
    "# Funões"
   ]
  },
  {
   "cell_type": "markdown",
   "metadata": {},
   "source": [
    "## Create Titles"
   ]
  },
  {
   "cell_type": "code",
   "execution_count": null,
   "metadata": {},
   "outputs": [],
   "source": [
    "def create_tiles_folium(tile_service=1, location=[-23.9619271, -46.3427499], zoom_start=10):\n",
    "    \"\"\"\n",
    "    Function to create map using tiles... a list of them\n",
    "    - https://www.spatialbias.com/2018/02/qgis-3.0-xyz-tile-layers/\n",
    "    - https://xyz.michelstuyts.be/\n",
    "    - https://www.trailnotes.org/FetchMap/TileServeSource.html\n",
    "\n",
    "    :param tile_service:\n",
    "    :param location:\n",
    "    :param zoom_start:\n",
    "    :return:\n",
    "    \"\"\"\n",
    "    # Import Packages\n",
    "    import pandas as pd\n",
    "    import folium\n",
    "\n",
    "    # Read table with all tiles servers\n",
    "    #tiles_services = pd.read_csv('./data/tiles.csv', index_col=0)\n",
    "    tiles_services = pd.read_csv('https://raw.githack.com/michelmetran/codes/master/data/tiles.csv', index_col=0)\n",
    "    #print(tiles_services)\n",
    "    #Mais serviços! https://leaflet-extras.github.io/leaflet-providers/preview/\n",
    "\n",
    "    # Create reference to attribution\n",
    "    ref = ('<a href=\"' +\n",
    "           tiles_services.loc[tile_service, 'attribution'] +\n",
    "           '\" target=\"blank\">' +\n",
    "           tiles_services.loc[tile_service, 'name'] +\n",
    "           '</a>')\n",
    "\n",
    "    return folium.Map(location=location,\n",
    "                      zoom_start=zoom_start,\n",
    "                      tiles=tiles_services.loc[tile_service, 'link'],\n",
    "                      attr=ref)"
   ]
  },
  {
   "cell_type": "markdown",
   "metadata": {},
   "source": [
    "## Multiple Baselayers"
   ]
  },
  {
   "cell_type": "code",
   "execution_count": null,
   "metadata": {},
   "outputs": [],
   "source": [
    "def create_map_multitiles(location=[-23.9619271, -46.3427499], zoom_start=10):\n",
    "    \"\"\"\n",
    "    Function to create map using tiles... a list of them\n",
    "    - https://www.spatialbias.com/2018/02/qgis-3.0-xyz-tile-layers/\n",
    "    - https://xyz.michelstuyts.be/\n",
    "    - https://www.trailnotes.org/FetchMap/TileServeSource.html\n",
    "\n",
    "    :param tile_service:\n",
    "    :param location:\n",
    "    :param zoom_start:\n",
    "    :return:\n",
    "    \"\"\"\n",
    "    # Import Packages\n",
    "    import pandas as pd\n",
    "    import folium\n",
    "\n",
    "    # Create Maps\n",
    "    m = folium.Map(location=location,\n",
    "                   zoom_start=zoom_start,\n",
    "                   tiles=None,\n",
    "                   )\n",
    "\n",
    "    # Read table with all tiles servers\n",
    "    df = pd.read_csv('../codes/data/tiles.csv',\n",
    "                     index_col=0,\n",
    "                     )\n",
    "\n",
    "    # Filter some tiles\n",
    "    # df = df[0:5]\n",
    "    # df = df.loc[(df['name'] == 'ESRI Satelite') | (df['name'] == 'ESRI Street')]\n",
    "    df = df[df['name'].str.startswith(('ESRI'))]\n",
    "\n",
    "    # For\n",
    "    for index, row in df.iterrows():\n",
    "        # Create reference to attribution\n",
    "        ref = ('<a href=\"' +\n",
    "               row['attribution'] +\n",
    "               '\" target=\"blank\">' +\n",
    "               row['name'] +\n",
    "               '</a>')\n",
    "\n",
    "        # Create multiples tiles layers\n",
    "        folium.TileLayer(tiles=row['link'],\n",
    "                         attr=ref,\n",
    "                         name=row['name'],\n",
    "                         ).add_to(m)\n",
    "\n",
    "    #  Add Legend\n",
    "    #folium.LayerControl().add_to(m)\n",
    "\n",
    "    # Results\n",
    "    return m"
   ]
  },
  {
   "cell_type": "markdown",
   "metadata": {},
   "source": [
    "# Referências\n",
    "- https://www.freecodecamp.org/news/real-world-data-science-project-traffic-accident-analysis-e5a36775ee11/\n",
    "- Muita coisa interessante em https://www.youtube.com/watch?v=4RnU5qKTfYY\n",
    "- https://jtemporal.com/folium/\n",
    "- https://www.kaggle.com/rachan/how-to-folium-for-maps-heatmaps-time-analysis\n",
    "- Muitos exemplos de ipynb https://nbviewer.jupyter.org/github/python-visualization/folium/tree/master/examples/"
   ]
  },
  {
   "cell_type": "markdown",
   "metadata": {},
   "source": [
    "___\n",
    "\n",
    "# Exportando o _Juptyter Notebook_ para outros formatos\n",
    "O arquivo _.ipynb_ pode ser exportado em formatos diversos. Abaixo carrego uma função que escrevi para facilitar o processo de exportação do arquivo em diferentes locais do PC para, posteriormente, atualizar os repositórios contidos no <a title=\"Link do GitHub\" href=\"https://github.com/michelmetran\" target=\"_blank\">_GitHub_</a>."
   ]
  },
  {
   "cell_type": "code",
   "execution_count": null,
   "metadata": {},
   "outputs": [],
   "source": [
    "# %load '~/Documents/SourceCode/codes/files/export_jupyter.py'\n",
    "def export_jupyter(path, extensions=['html', 'markdown', 'latex', 'pdf', 'python'], today=True):\n",
    "    \"\"\"\n",
    "    Export .ipynb file to others formats\n",
    "    :return: File in other formats\n",
    "    \"\"\"\n",
    "    # Import Packages\n",
    "    import os\n",
    "    import datetime\n",
    "\n",
    "    # Data\n",
    "    timestamp = datetime.datetime.now()\n",
    "    srt_today = (str(timestamp.year) + '-' +\n",
    "                 str(f\"{timestamp.month:02d}\") + '-' +\n",
    "                 str(f\"{timestamp.day:02d}\"))\n",
    "\n",
    "    # Extensions\n",
    "    for extension in extensions:\n",
    "        if today==True:\n",
    "            os.system('jupyter nbconvert --to {} {} --output {}'.\n",
    "                      format(extension, get_jupyternotebook_name(),\n",
    "                             os.path.join(path, srt_today+'-'+get_jupyternotebook_name().split('.')[0])))\n",
    "            print('Arquivo {} exportado corretamente para o formato {} usando prefixo da data.'.\n",
    "                  format(get_jupyternotebook_name(), extension))\n",
    "\n",
    "        else:\n",
    "            os.system('jupyter nbconvert --to {} {} --output {}'.\n",
    "                      format(extension, get_jupyternotebook_name(),\n",
    "                             os.path.join(path, get_jupyternotebook_name().split('.')[0])))\n",
    "            print('Arquivo {} exportado corretamente para o formato {} sem usar prefixo da data.'.\n",
    "                  format(get_jupyternotebook_name(), extension))\n"
   ]
  },
  {
   "cell_type": "code",
   "execution_count": null,
   "metadata": {},
   "outputs": [],
   "source": [
    "# %load '~/Documents/SourceCode/codes/files/get_jupyternotebook_name.py'\n",
    "def get_jupyternotebook_name():\n",
    "    \"\"\"\n",
    "    Returns the name of the current notebook as a string\n",
    "    From https://mail.scipy.org/pipermail/ipython-dev/2014-June/014096.html\n",
    "    :return: Returns the name of the current notebook as a string\n",
    "    \"\"\"\n",
    "    # Import Packages\n",
    "    from IPython.core.display import Javascript\n",
    "    from IPython.display import display\n",
    "\n",
    "    display(Javascript('IPython.notebook.kernel.execute(\"theNotebook = \" + \\\n",
    "    \"\\'\"+IPython.notebook.notebook_name+\"\\'\");'))\n",
    "\n",
    "    # Result\n",
    "    return theNotebook\n"
   ]
  },
  {
   "cell_type": "markdown",
   "metadata": {},
   "source": [
    "Com as funções para exportar o _Jupyter Notebook_ e para obter o nome do arquivo _.ipynb_ carregadas, basta exportar o arquivo, inicialmente para a pasta _docs_ dentro do projeto e também, visando atualizar os _posts_ do site, para a respectiva pasta."
   ]
  },
  {
   "cell_type": "code",
   "execution_count": null,
   "metadata": {},
   "outputs": [],
   "source": [
    "export_jupyter('docs',['pdf'], False)\n",
    "export_jupyter('../michelmetran.github.io/_posts', ['markdown'], True)"
   ]
  },
  {
   "cell_type": "markdown",
   "metadata": {},
   "source": [
    "# Git\n",
    "Após as exportações dos arquivos nos formatos necessários, basta atualizar o repositório diretamente pelo  *Jupyter Notebook*.\n",
    "Abaixo é atualizado o repositório desse projeto específico, bem como a derivação desse projeto no <a title=\"Link do Folium\" href=\"https://michelmetran.github.io/\" target=\"_blank\">**_site_**</a>."
   ]
  },
  {
   "cell_type": "code",
   "execution_count": null,
   "metadata": {},
   "outputs": [],
   "source": [
    "%run '../codes/git/update_github.py'\n",
    "\n",
    "git_full('.', '.', 'Atualizando')\n",
    "#git_full('../michelmetran.github.io', '.', 'Atualizando')"
   ]
  }
 ],
 "metadata": {
  "kernelspec": {
   "display_name": "Python 3.8.2 64-bit ('pablocarreira-py38': conda)",
   "language": "python",
   "name": "python38264bitpablocarreirapy38conda1624f2f09c5f4385932981bc1d88933d"
  },
  "language_info": {
   "codemirror_mode": {
    "name": "ipython",
    "version": 3
   },
   "file_extension": ".py",
   "mimetype": "text/x-python",
   "name": "python",
   "nbconvert_exporter": "python",
   "pygments_lexer": "ipython3",
   "version": "3.8.2"
  },
  "toc": {
   "base_numbering": 1,
   "nav_menu": {
    "height": "228px",
    "width": "188px"
   },
   "number_sections": true,
   "sideBar": true,
   "skip_h1_title": false,
   "title_cell": "Table of Contents",
   "title_sidebar": "Contents",
   "toc_cell": false,
   "toc_position": {
    "height": "calc(100% - 180px)",
    "left": "10px",
    "top": "150px",
    "width": "220.6px"
   },
   "toc_section_display": true,
   "toc_window_display": true
  }
 },
 "nbformat": 4,
 "nbformat_minor": 2
}
