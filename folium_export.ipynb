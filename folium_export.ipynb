{
 "cells": [
  {
   "cell_type": "markdown",
   "metadata": {
    "tags": [
     "yaml"
    ]
   },
   "source": [
    "---\n",
    "layout: post\n",
    "title: Jupyter Notebook\n",
    "subtitle: Exercícios e Referências\n",
    "tags: [python, pycharm, jupyter, package]\n",
    "image: /img/posts/jupyter_icon.png\n",
    "bigimg: /img/posts/jupyter_big.png\n",
    "gh-repo: michelmetran/package_jupyter\n",
    "gh-badge: [follow, star, watch, fork]\n",
    "comments: true\n",
    "\n",
    "---"
   ]
  },
  {
   "cell_type": "markdown",
   "metadata": {
    "tags": [
     "header"
    ]
   },
   "source": [
    "# Título do *Post*"
   ]
  },
  {
   "cell_type": "markdown",
   "metadata": {},
   "source": [
    "O *Jupyter Notebook* é a maneira que optei para escrever os códigos na linguagem *python*, visto que além de rodar os códigos, é possível:\n",
    "1. Documentar os *scripts*, escrevendo o significado e objetivo de cada conjunto de comandos;\n",
    "2. Atualizar os meus repositórios na plataforma **GitHub**;\n",
    "3. Trabalhar com uma diversidade de opções de exportação do arquivo em formatos diversos, adaptados até mesmo para as simples leitura, como PDFs e Markdowns.\n",
    "\n",
    "Com tais caraterísticas, notei que é possível publicar *posts* diretamente do *Jupyter Notebook*. Aqui pretendo apresentar um pouco das funções que tenho explorado para aperfeiçoar e facilitar minhas publicações no meu site pessoal: https://michelmetran.github.io. E, pesquisando pela internet, descobri que não sou o único a [*Exploring Jupyer Notebook to write a Blog*](https://medium.com/gopypi/exploring-jupyer-notebook-to-write-a-blog-1e7eaa913274), tem muito material a ser explorado...\n",
    "\n",
    "<div class=\"alert alert-warning\">\n",
    "<b>OBSERVAÇÃO</b><br/>\n",
    "    Esse <i>post</i> tem a finalidade de mostrar os comandos básicos e me deixar com uma \"cola\" rápida para meu uso cotidiano.<br/>\n",
    "    Todas os códigos são exemplificativos e podem/devem ser alterados, indicando o nome dos arquivos e diretórios corretamente.\n",
    "</div>\n",
    "\n",
    "<div class=\"alert alert-info\">\n",
    "<b>INFORMAÇÃO</b><br/>\n",
    "    <ol>\n",
    "    <li>É possível acessar esse <i>post</i> em formato <a href=\"https://rawcdn.githack.com/michelmetran/package_juypter/master/docs/juypter.html\" target=\"_blank\"><i><b>html</b></i></a>, que possibilita ter uma visualização rápida do código;</li>\n",
    "    <li>Diretamente por meio do <a href=\"https://github.com/michelmetran/package_juypter\" target=\"_blank\"><b>repositório</b></a>, onde está disponível este arquivo <i><b>.ipynb</b></i>, que permite fazer edições no código;</li>\n",
    "    <li>Ou ainda, de maneira interativa, usando o <a href=\"https://mybinder.org/v2/gh/michelmetran/package_juypter/master\" target=\"_blank\"><i><b>MyBinder</b></i></a>, que possibilita rodar e editar o código sem a necessidade de instalar nada.</li>\n",
    "    </ol>\n",
    "</div>"
   ]
  },
  {
   "cell_type": "code",
   "execution_count": null,
   "metadata": {},
   "outputs": [],
   "source": [
    "import os\n",
    "import json\n",
    "import time\n",
    "import folium\n",
    "import pandas as pd\n",
    "from datetime import date"
   ]
  },
  {
   "cell_type": "code",
   "execution_count": null,
   "metadata": {},
   "outputs": [],
   "source": [
    "[os.makedirs(i, exist_ok=True) for i in ['docs']]"
   ]
  },
  {
   "cell_type": "code",
   "execution_count": null,
   "metadata": {},
   "outputs": [],
   "source": []
  },
  {
   "cell_type": "code",
   "execution_count": null,
   "metadata": {},
   "outputs": [],
   "source": [
    "import os\n",
    "import json\n",
    "import folium\n",
    "import pandas as pd\n",
    "import branca as bc\n",
    "import seaborn as sns\n",
    "import geopandas as gpd\n",
    "from datetime import date"
   ]
  },
  {
   "cell_type": "code",
   "execution_count": null,
   "metadata": {},
   "outputs": [],
   "source": [
    "# Lendo e filtrando dados\n",
    "df = pd.read_csv('data/empresas.xz')\n",
    "df = df[df['state'] == 'SP']\n",
    "df = df[df['city'] == 'SANTOS']"
   ]
  },
  {
   "cell_type": "code",
   "execution_count": null,
   "metadata": {},
   "outputs": [],
   "source": [
    "# Cria o mapa\n",
    "m = folium.Map(\n",
    "    location=[-23.9619271,-46.3427499],\n",
    "    zoom_start=12,\n",
    "    #width=767,\n",
    "    #height=460,\n",
    ")\n",
    "\n",
    "# Cria cores para as tags\n",
    "colors = {\n",
    "    'PONTA DA PRAIA': 'pink',\n",
    "    'CENTRO': 'blue',\n",
    "    'GONZAGA': 'green',\n",
    "    'JOSÉ MENINO': 'red',\n",
    "    'EMBARE': 'beige',\n",
    "    'MACUCO': 'blue',\n",
    "    'VILA MATHIAS': 'lightblue',\n",
    "    'POMPEIA': 'red',\n",
    "    'APARECIDA': 'purple'\n",
    "}\n",
    "\n",
    "# Adiciona as diferentes empresas com cores por bairros\n",
    "for index, row in df.iterrows():\n",
    "    if row['neighborhood'] in colors.keys():\n",
    "        folium.Marker(\n",
    "            location=[row['latitude'], row['longitude']],\n",
    "            popup=row['name'],\n",
    "            tooltip=row['neighborhood'],\n",
    "            icon=folium.Icon(color=colors[row['neighborhood']], icon='leaf')\n",
    "        ).add_to(m)\n",
    "\n",
    "        \n",
    "m.fit_bounds(m.get_bounds())\n",
    "m.save(os.path.join('maps', 'map.html'))\n",
    "\n",
    "# Apresenta o mapa\n",
    "m"
   ]
  },
  {
   "cell_type": "markdown",
   "metadata": {},
   "source": [
    "# Export"
   ]
  },
  {
   "cell_type": "markdown",
   "metadata": {},
   "source": [
    "## PNG Simple Way\n",
    "\n",
    "Zuado!, imagem cortada."
   ]
  },
  {
   "cell_type": "code",
   "execution_count": null,
   "metadata": {},
   "outputs": [],
   "source": [
    "import io\n",
    "from PIL import Image\n",
    "\n",
    "img_data = m._to_png(5)\n",
    "img = Image.open(io.BytesIO(img_data))\n",
    "img.save(os.path.join('maps', 'map.png'))"
   ]
  },
  {
   "cell_type": "markdown",
   "metadata": {},
   "source": [
    "## *PrintScreen* High Resolution\n",
    "\n",
    "https://pythonbasics.org/selenium-screenshot/\n",
    "\n",
    "Se editar o HTML"
   ]
  },
  {
   "cell_type": "code",
   "execution_count": null,
   "metadata": {},
   "outputs": [],
   "source": [
    "def export_map(input_map, output_png):\n",
    "    import os\n",
    "    import time\n",
    "    from selenium import webdriver\n",
    "    from selenium.webdriver.common.keys import Keys\n",
    "    from selenium.webdriver.firefox.options import Options\n",
    "\n",
    "    # Parameters\n",
    "    url = os.path.join(os.getcwd(), input_map)\n",
    "    printscreen = output_png\n",
    "\n",
    "    # Driver\n",
    "    driver = webdriver.FirefoxProfile()\n",
    "    driver.set_preference('intl.accept_languages', 'pt-BR, pt')\n",
    "    options = Options()\n",
    "    options.headless = True\n",
    "    driver = webdriver.Firefox(firefox_profile=driver, options=options)\n",
    "\n",
    "    # Open and Export\n",
    "    driver.get('file://{}'.format(url))\n",
    "    driver.set_window_size(1920, 1080)\n",
    "\n",
    "    #driver.fullscreen_window()\n",
    "    time.sleep(15)\n",
    "\n",
    "    driver.find_element_by_tag_name('body').screenshot(printscreen)\n",
    "\n",
    "    # Quit\n",
    "    driver.quit()"
   ]
  },
  {
   "cell_type": "code",
   "execution_count": null,
   "metadata": {},
   "outputs": [],
   "source": []
  },
  {
   "cell_type": "code",
   "execution_count": null,
   "metadata": {},
   "outputs": [],
   "source": [
    "def export_map(input_map, output_png):\n",
    "    import os\n",
    "    import time\n",
    "    from selenium import webdriver\n",
    "    from selenium.webdriver.common.keys import Keys\n",
    "    from selenium.webdriver.firefox.options import Options\n",
    "\n",
    "    # Parameters\n",
    "    url = os.path.join(os.getcwd(), input_map)\n",
    "    printscreen = output_png\n",
    "\n",
    "    # Driver\n",
    "    driver = webdriver.FirefoxProfile()\n",
    "    driver.set_preference('intl.accept_languages', 'pt-BR, pt')\n",
    "    options = Options()\n",
    "    options.headless = True\n",
    "    driver = webdriver.Firefox(firefox_profile=driver, options=options)\n",
    "\n",
    "    # Open and Export\n",
    "    driver.get('file://{}'.format(url))\n",
    "    driver.set_window_size(1920, 1080)\n",
    "\n",
    "    #driver.fullscreen_window()\n",
    "    time.sleep(15)\n",
    "\n",
    "    driver.find_element_by_tag_name('body').screenshot(printscreen)\n",
    "\n",
    "    # Quit\n",
    "    driver.quit()"
   ]
  },
  {
   "cell_type": "code",
   "execution_count": null,
   "metadata": {},
   "outputs": [],
   "source": [
    "input_map = os.path.join('maps', 'map_CaptaçãoSubterrânea.html')\n",
    "output_png = os.path.join('maps', 'map_CaptaçãoSubterrânea.png')\n",
    "\n",
    "export_map(input_map, output_png)"
   ]
  },
  {
   "cell_type": "code",
   "execution_count": null,
   "metadata": {},
   "outputs": [],
   "source": [
    "def modify_HeaderLegend(map_folium):    \n",
    "    \"\"\"        \n",
    "    \"\"\"    \n",
    "    import branca as bc\n",
    "    \n",
    "    # Header to Add\n",
    "    x = '{width: 150%;height: 150%;margin: 0;padding: 0;}'\n",
    "    \n",
    "    head1 = \"\"\"{% macro header(this, kwargs) %}\"\"\"\n",
    "    head2 = f'<style>html, body {x} </style>'\n",
    "    head3 = \"\"\"{% endmacro %}\"\"\"\n",
    "    \n",
    "    # Add Header\n",
    "    macro = bc.element.MacroElement()\n",
    "    macro._template = bc.element.Template(head1+head2+head3)\n",
    "    map_folium.get_root().add_child(macro)\n",
    "    \n",
    "    return map_folium"
   ]
  },
  {
   "cell_type": "markdown",
   "metadata": {
    "tags": [
     "remove_cell"
    ]
   },
   "source": [
    "___\n",
    "\n",
    "# Encerramento"
   ]
  },
  {
   "cell_type": "markdown",
   "metadata": {
    "tags": [
     "remove_cell"
    ]
   },
   "source": [
    "## *Export to*  docs"
   ]
  },
  {
   "cell_type": "code",
   "execution_count": null,
   "metadata": {
    "tags": [
     "remove_cell"
    ]
   },
   "outputs": [],
   "source": [
    "# Input\n",
    "inp = 'database.ipynb'\n",
    "\n",
    "# Output\n",
    "out = os.path.join('docs', inp.split('.')[0])\n",
    "\n",
    "# Extension to export ('html', 'html_embed', 'markdown', 'latex', 'pdf', 'python')\n",
    "ext = 'html_embed'\n",
    "\n",
    "# Remove cells with tag\n",
    "tag = (\"['\" + '\"remove_cell\"' + \", \" + '\"yaml\"' + \"']\")\n",
    "!echo $tag"
   ]
  },
  {
   "cell_type": "code",
   "execution_count": null,
   "metadata": {
    "tags": [
     "remove_cell"
    ]
   },
   "outputs": [],
   "source": [
    "!jupyter-nbconvert $inp\\\n",
    "--to $ext\\\n",
    "--TagRemovePreprocessor.enabled=True\\\n",
    "--TagRemovePreprocessor.remove_cell_tags=$tag\\\n",
    "--ClearOutputPreprocessor.enabled=True\\\n",
    "--TemplateExporter.exclude_markdown=False\\\n",
    "--TemplateExporter.exclude_code_cell=False\\\n",
    "--TemplateExporter.exclude_output=True\\\n",
    "--TemplateExporter.exclude_raw=False\\\n",
    "--TemplateExporter.exclude_input_prompt=True\\\n",
    "--TemplateExporter.exclude_output_prompt=True\\\n",
    "--output $out"
   ]
  },
  {
   "cell_type": "markdown",
   "metadata": {
    "tags": [
     "remove_cell"
    ]
   },
   "source": [
    "## *Export to* michelmetran.github.io"
   ]
  },
  {
   "cell_type": "code",
   "execution_count": null,
   "metadata": {
    "tags": [
     "remove_cell"
    ]
   },
   "outputs": [],
   "source": [
    "# Parameters\n",
    "day = date.today().strftime('%Y-%m-%d')\n",
    "day = '2020-06-11'\n",
    "\n",
    "# Output\n",
    "out = os.path.join('../michelmetran.github.io/_posts', day + '-' + inp.split('.')[0])\n",
    "\n",
    "# Extension to export ('html', 'markdown', 'latex', 'pdf', 'python')\n",
    "ext = 'markdown'\n",
    "\n",
    "# Remove cells with tag\n",
    "tag = (\"['\" + '\"remove_cell\"' + \", \" + '\"header\"' + \"']\")\n",
    "!echo $tag"
   ]
  },
  {
   "cell_type": "code",
   "execution_count": null,
   "metadata": {
    "tags": [
     "remove_cell"
    ]
   },
   "outputs": [],
   "source": [
    "!jupyter-nbconvert $inp\\\n",
    "--to $ext\\\n",
    "--TagRemovePreprocessor.enabled=True\\\n",
    "--TagRemovePreprocessor.remove_cell_tags=$tag\\\n",
    "--ClearOutputPreprocessor.enabled=True\\\n",
    "--TemplateExporter.exclude_markdown=False\\\n",
    "--TemplateExporter.exclude_code_cell=False\\\n",
    "--TemplateExporter.exclude_output=True\\\n",
    "--TemplateExporter.exclude_raw=False\\\n",
    "--TemplateExporter.exclude_input_prompt=True\\\n",
    "--TemplateExporter.exclude_output_prompt=True\\\n",
    "--output $out"
   ]
  },
  {
   "cell_type": "markdown",
   "metadata": {
    "tags": [
     "remove_cell"
    ]
   },
   "source": [
    "## *Requirements*"
   ]
  },
  {
   "cell_type": "code",
   "execution_count": null,
   "metadata": {
    "tags": [
     "remove_cell"
    ]
   },
   "outputs": [],
   "source": [
    "# Output\n",
    "out = os.path.join(inp.split('.')[0])\n",
    "!jupyter-nbconvert $inp --to python --output $out\n",
    "\n",
    "print('-'*80)\n",
    "!pipreqs '.' --force --debug\n",
    "\n",
    "print('-'*80)\n",
    "os.remove(out+'.py')\n",
    "print('Arquivo {} deletado com sucesso!'.format(out+'.py'))"
   ]
  },
  {
   "cell_type": "markdown",
   "metadata": {
    "tags": [
     "remove_cell"
    ]
   },
   "source": [
    "## *GitHub* this project"
   ]
  },
  {
   "cell_type": "code",
   "execution_count": null,
   "metadata": {
    "tags": [
     "remove_cell"
    ]
   },
   "outputs": [],
   "source": [
    "!nbstripout --install --attributes .gitattributes\n",
    "!git status\n",
    "!git add .\n",
    "!git commit -m 'Arrumações Gerais'\n",
    "!git push origin master"
   ]
  },
  {
   "cell_type": "markdown",
   "metadata": {
    "tags": [
     "remove_cell"
    ]
   },
   "source": [
    "## *GitHub* michelmetran.github.io"
   ]
  },
  {
   "cell_type": "code",
   "execution_count": null,
   "metadata": {
    "tags": [
     "remove_cell"
    ]
   },
   "outputs": [],
   "source": [
    "print('-'*80)\n",
    "path_cwd = os.getcwd()\n",
    "print('O diretório atual é {}'.format(path_cwd))\n",
    "path_new = '../michelmetran.github.io'\n",
    "os.chdir(path_new)\n",
    "print('Mudei para o diretório atual é {}'.format(path_new))\n",
    "\n",
    "print('-'*80)\n",
    "!nbstripout --install --attributes .gitattributes\n",
    "!git status\n",
    "!git add .\n",
    "!git commit -m 'Arrumações Gerais'\n",
    "!git push origin master\n",
    "\n",
    "print('-'*80)\n",
    "os.chdir(path_cwd)\n",
    "print('Retornei para o diretório {}'.format(path_cwd))\n",
    "print('-'*80)"
   ]
  },
  {
   "cell_type": "code",
   "execution_count": null,
   "metadata": {
    "tags": [
     "remove_cell"
    ]
   },
   "outputs": [],
   "source": []
  }
 ],
 "metadata": {
  "kernelspec": {
   "display_name": "Python [conda env:pablocarreira-py38] *",
   "language": "python",
   "name": "conda-env-pablocarreira-py38-py"
  },
  "language_info": {
   "codemirror_mode": {
    "name": "ipython",
    "version": 3
   },
   "file_extension": ".py",
   "mimetype": "text/x-python",
   "name": "python",
   "nbconvert_exporter": "python",
   "pygments_lexer": "ipython3",
   "version": "3.8.3"
  },
  "toc": {
   "base_numbering": 1,
   "nav_menu": {},
   "number_sections": true,
   "sideBar": true,
   "skip_h1_title": false,
   "title_cell": "Sumário",
   "title_sidebar": "Contents",
   "toc_cell": false,
   "toc_position": {
    "height": "calc(100% - 180px)",
    "left": "10px",
    "top": "150px",
    "width": "296.4px"
   },
   "toc_section_display": true,
   "toc_window_display": true
  }
 },
 "nbformat": 4,
 "nbformat_minor": 4
}
